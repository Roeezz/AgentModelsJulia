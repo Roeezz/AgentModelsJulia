{
 "metadata": {
  "language_info": {
   "file_extension": ".jl",
   "name": "julia",
   "mimetype": "application/julia",
   "version": "1.6.1"
  },
  "orig_nbformat": 4,
  "kernelspec": {
   "name": "julia-1.6",
   "display_name": "Julia 1.6.1",
   "language": "julia"
  }
 },
 "nbformat": 4,
 "nbformat_minor": 2,
 "cells": [
  {
   "cell_type": "code",
   "execution_count": 4,
   "source": [
    "using Luxor"
   ],
   "outputs": [
    {
     "output_type": "stream",
     "name": "stderr",
     "text": [
      "\n",
      "(process:24680): GLib-GIO-WARNING **: 17:11:05.897: Unexpectedly, UWP app `XBMCFoundation.Kodi_19.0.500.0_x64__4n2hpmxwrvr6p' (AUMId `XBMCFoundation.Kodi_4n2hpmxwrvr6p!Kodi') supports 120 extensions but has no verbs\n"
     ]
    }
   ],
   "metadata": {}
  },
  {
   "cell_type": "code",
   "execution_count": 21,
   "source": [
    "grid_world = [\r\n",
    "    \"#\" \"#\" \"#\" \"#\" \"V\" \"#\" ;\r\n",
    "    \"#\" \"#\" \"#\" \"___\" \"___\" \"___\";\r\n",
    "    \"#\" \"#\" \"DN\" \"___\" \"#\" \"___\";\r\n",
    "    \"#\" \"#\" \"#\" \"___\" \"#\" \"___\";\r\n",
    "    \"#\" \"#\" \"#\" \"___\" \"___\" \"___\";\r\n",
    "    \"#\" \"#\" \"#\" \"___\" \"#\" \"N\";\r\n",
    "    \"___\" \"___\" \"___\" \"___\" \"#\" \"#\";\r\n",
    "    \"DS\" \"#\" \"#\" \"___\" \"#\" \"#\";\r\n",
    "]\r\n",
    "\r\n",
    "grid_world_colors = Dict(\r\n",
    "    \"DS\" => \"pink\", \r\n",
    "    \"DN\" => \"pink\",\r\n",
    "    \"V\" => \"green\",\r\n",
    "    \"N\" => \"yellow\", \r\n",
    "    \"___\"=> \"gray\",\r\n",
    "    \"#\" => \"black\"\r\n",
    ")\r\n",
    "\r\n",
    "grid_world_names = Dict(\r\n",
    "    \"DS\" => \"DONUT SOUTH\",\r\n",
    "    \"DN\" => \"DONUT NORTH\",\r\n",
    "    \"V\" => \"VEGI\",\r\n",
    "    \"N\" => \"NOODLES\", \r\n",
    "    \"___\"=> \"\",\r\n",
    "    \"#\" => \"\"\r\n",
    ")\r\n",
    "grid_size = size(grid_world)\r\n",
    "start_state = [7,4]\r\n",
    "function get_state(n)\r\n",
    "    row = (n-1) ÷ grid_size[2] + 1\r\n",
    "    col = (n-1) % grid_size[2] + 1\r\n",
    "    return [row, col]\r\n",
    "end\r\n",
    "\r\n",
    "function get_tile(state)\r\n",
    "    return grid_world[state...]\r\n",
    "end\r\n",
    "\r\n",
    "traj = [[7,4], [6, 4], [5, 4], [4, 4], [3, 4], [3, 3]]\r\n",
    "\r\n",
    "# Drawing()\r\n",
    "# origin()\r\n",
    "# background(\"white\")\r\n",
    "\r\n",
    "demo = Movie(600, 600, \"test\", 1:length(traj))\r\n",
    "function backdrop(scene, framenumber)\r\n",
    "    background(\"white\")\r\n",
    "end\r\n",
    "\r\n",
    "function frame(scene, framenumber)\r\n",
    "    tiles = Tiler(500, 500, 8, 6, margin=0)\r\n",
    "    agent_state = traj[framenumber]\r\n",
    "    for (pos, n) in tiles\r\n",
    "        state = get_state(n)\r\n",
    "        tile = get_tile(state)\r\n",
    "        sethue(grid_world_colors[tile])\r\n",
    "        box(pos, tiles.tilewidth, tiles.tileheight, :fill)\r\n",
    "        fontsize(10)\r\n",
    "        sethue(\"black\")\r\n",
    "        textcentered(grid_world_names[tile], pos + Point(0, 5))\r\n",
    "        if (state == agent_state)\r\n",
    "            sethue(\"blue\")\r\n",
    "            circle(pos, min(tiles.tilewidth, tiles.tileheight) / 2, :fill)\r\n",
    "        end\r\n",
    "    end\r\n",
    "end\r\n",
    "\r\n",
    "animate(demo, [\r\n",
    "    Scene(demo, backdrop),\r\n",
    "    Scene(demo, frame)\r\n",
    "    ],\r\n",
    "    framerate=5,\r\n",
    "    creategif=true)"
   ],
   "outputs": [
    {
     "output_type": "stream",
     "name": "stderr",
     "text": [
      "┌ Info: Frames for animation \"test\" are being stored in directory: \n",
      "│ \t C:\\Users\\omrif\\AppData\\Local\\Temp\\jl_RcYa6G\n",
      "└ @ Luxor C:\\Users\\omrif\\.julia\\packages\\Luxor\\XHa4Y\\src\\animate.jl:178\n",
      "┌ Info: ... 6 frames saved in directory:\n",
      "│ \t C:\\Users\\omrif\\AppData\\Local\\Temp\\jl_RcYa6G\n",
      "└ @ Luxor C:\\Users\\omrif\\.julia\\packages\\Luxor\\XHa4Y\\src\\animate.jl:200\n",
      "┌ Info: GIF is: C:\\Users\\omrif\\AppData\\Local\\Temp\\jl_RcYa6G/test.gif\n",
      "└ @ Luxor C:\\Users\\omrif\\.julia\\packages\\Luxor\\XHa4Y\\src\\animate.jl:229\n"
     ]
    },
    {
     "output_type": "execute_result",
     "data": {
      "text/plain": [
       "Luxor.AnimatedGif(\"C:\\\\Users\\\\omrif\\\\AppData\\\\Local\\\\Temp\\\\jl_RcYa6G/test.gif\")"
      ],
      "text/html": [
       "<img src=\"data:image/gif;base64,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\" />"
      ]
     },
     "metadata": {},
     "execution_count": 21
    }
   ],
   "metadata": {}
  }
 ]
}