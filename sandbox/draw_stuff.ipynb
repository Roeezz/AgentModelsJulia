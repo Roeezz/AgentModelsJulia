{
 "metadata": {
  "language_info": {
   "file_extension": ".jl",
   "name": "julia",
   "mimetype": "application/julia",
   "version": "1.6.1"
  },
  "orig_nbformat": 4,
  "kernelspec": {
   "name": "julia-1.6",
   "display_name": "Julia 1.6.1",
   "language": "julia"
  }
 },
 "nbformat": 4,
 "nbformat_minor": 2,
 "cells": [
  {
   "cell_type": "code",
   "execution_count": 2,
   "source": [
    "using Luxor"
   ],
   "outputs": [],
   "metadata": {}
  },
  {
   "cell_type": "code",
   "execution_count": 18,
   "source": [
    "grid_world = [\n",
    "    \"#\" \"#\" \"#\" \"#\" \"V\" \"#\" ;\n",
    "    \"#\" \"#\" \"#\" \"___\" \"___\" \"___\";\n",
    "    \"#\" \"#\" \"DN\" \"___\" \"#\" \"___\";\n",
    "    \"#\" \"#\" \"#\" \"___\" \"#\" \"___\";\n",
    "    \"#\" \"#\" \"#\" \"___\" \"___\" \"___\";\n",
    "    \"#\" \"#\" \"#\" \"___\" \"#\" \"N\";\n",
    "    \"___\" \"___\" \"___\" \"___\" \"#\" \"#\";\n",
    "    \"DS\" \"#\" \"#\" \"___\" \"#\" \"#\";\n",
    "]\n",
    "\n",
    "grid_world_colors = Dict(\n",
    "    \"DS\" => \"pink\", \n",
    "    \"DN\" => \"pink\",\n",
    "    \"V\" => \"green\",\n",
    "    \"N\" => \"yellow\", \n",
    "    \"___\"=> \"gray\",\n",
    "    \"#\" => \"black\"\n",
    ")\n",
    "\n",
    "grid_world_names = Dict(\n",
    "    \"DS\" => \"DONUT SOUTH\",\n",
    "    \"DN\" => \"DONUT NORTH\",\n",
    "    \"V\" => \"VEGI\",\n",
    "    \"N\" => \"NOODLES\", \n",
    "    \"___\"=> \"\",\n",
    "    \"#\" => \"\"\n",
    ")\n",
    "grid_size = size(grid_world)\n",
    "start_state = [7,4]\n",
    "function get_state(n)\n",
    "    row = (n-1) ÷ (grid_size[2] + 1)\n",
    "    col = (n-1) % (grid_size[2] + 1)\n",
    "    return [row, col]\n",
    "end\n",
    "\n",
    "function get_tile(state)\n",
    "    return grid_world[state...]\n",
    "end\n",
    "\n",
    "traj = [[7,4], [6, 4], [5, 4], [4, 4], [3, 4], [3, 3]]\n",
    "\n",
    "# Drawing()\n",
    "# origin()\n",
    "# background(\"white\")\n",
    "\n",
    "demo = Movie(800, 1000, \"test\", 1:length(traj))\n",
    "function backdrop(scene, framenumber)\n",
    "    background(\"white\")\n",
    "end\n",
    "\n",
    "function frame(scene, framenumber)\n",
    "    tiles = Tiler(700, 900, 9, 7, margin=0)\n",
    "    agent_state = traj[framenumber]\n",
    "    for (pos, n) in tiles\n",
    "        state = get_state(n)\n",
    "        if state[1] == 0 || state[2] == 0\n",
    "            if state != [0,0]\n",
    "                fontsize(18)\n",
    "                sethue(\"black\")\n",
    "                textcentered(string(max(state...)), pos + Point(0, 5))\n",
    "            end\n",
    "            continue\n",
    "        end\n",
    "        tile = get_tile(state)\n",
    "        sethue(grid_world_colors[tile])\n",
    "        box(pos, tiles.tilewidth, tiles.tileheight, :fill)\n",
    "        fontsize(13)\n",
    "        sethue(\"black\")\n",
    "        textcentered(grid_world_names[tile], pos + Point(0, 5))\n",
    "        if (state == agent_state)\n",
    "            sethue(\"blue\")\n",
    "            circle(pos, min(tiles.tilewidth, tiles.tileheight) / 2, :fill)\n",
    "        end\n",
    "    end\n",
    "end\n",
    "\n",
    "animate(demo, [\n",
    "    Scene(demo, backdrop),\n",
    "    Scene(demo, frame)\n",
    "    ],\n",
    "    framerate=5,\n",
    "    creategif=true)"
   ],
   "outputs": [
    {
     "output_type": "stream",
     "name": "stderr",
     "text": [
      "┌ Info: Frames for animation \"test\" are being stored in directory: \n",
      "│ \t C:\\Users\\Roie\\AppData\\Local\\Temp\\jl_mD71sE\n",
      "└ @ Luxor C:\\Users\\Roie\\.julia\\packages\\Luxor\\XHa4Y\\src\\animate.jl:178\n",
      "┌ Info: ... 6 frames saved in directory:\n",
      "│ \t C:\\Users\\Roie\\AppData\\Local\\Temp\\jl_mD71sE\n",
      "└ @ Luxor C:\\Users\\Roie\\.julia\\packages\\Luxor\\XHa4Y\\src\\animate.jl:200\n",
      "┌ Info: GIF is: C:\\Users\\Roie\\AppData\\Local\\Temp\\jl_mD71sE/test.gif\n",
      "└ @ Luxor C:\\Users\\Roie\\.julia\\packages\\Luxor\\XHa4Y\\src\\animate.jl:229\n"
     ]
    },
    {
     "output_type": "execute_result",
     "data": {
      "text/plain": [
       "Luxor.AnimatedGif(\"C:\\\\Users\\\\Roie\\\\AppData\\\\Local\\\\Temp\\\\jl_mD71sE/test.gif\")"
      ],
      "text/html": [
       "<img src=\"data:image/gif;base64,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\" />"
      ]
     },
     "metadata": {},
     "execution_count": 18
    }
   ],
   "metadata": {}
  }
 ]
}