{
 "metadata": {
  "language_info": {
   "file_extension": ".jl",
   "name": "julia",
   "mimetype": "application/julia",
   "version": "1.6.1"
  },
  "orig_nbformat": 4,
  "kernelspec": {
   "name": "julia-1.6",
   "display_name": "Julia 1.6.1",
   "language": "julia"
  }
 },
 "nbformat": 4,
 "nbformat_minor": 2,
 "cells": [
  {
   "cell_type": "code",
   "execution_count": 4,
   "source": [
    "using Luxor"
   ],
   "outputs": [
    {
     "output_type": "stream",
     "name": "stderr",
     "text": [
      "\n",
      "(process:24680): GLib-GIO-WARNING **: 17:11:05.897: Unexpectedly, UWP app `XBMCFoundation.Kodi_19.0.500.0_x64__4n2hpmxwrvr6p' (AUMId `XBMCFoundation.Kodi_4n2hpmxwrvr6p!Kodi') supports 120 extensions but has no verbs\n"
     ]
    }
   ],
   "metadata": {}
  },
  {
   "cell_type": "code",
   "execution_count": 20,
   "source": [
    "grid_world = [\r\n",
    "    \"#\" \"#\" \"#\" \"#\" \"V\" \"#\" ;\r\n",
    "    \"#\" \"#\" \"#\" \"___\" \"___\" \"___\";\r\n",
    "    \"#\" \"#\" \"DN\" \"___\" \"#\" \"___\";\r\n",
    "    \"#\" \"#\" \"#\" \"___\" \"#\" \"___\";\r\n",
    "    \"#\" \"#\" \"#\" \"___\" \"___\" \"___\";\r\n",
    "    \"#\" \"#\" \"#\" \"___\" \"#\" \"N\";\r\n",
    "    \"___\" \"___\" \"___\" \"___\" \"#\" \"#\";\r\n",
    "    \"DS\" \"#\" \"#\" \"___\" \"#\" \"#\";\r\n",
    "]\r\n",
    "\r\n",
    "grid_world_colors = Dict(\r\n",
    "    \"DS\" => \"pink\", \r\n",
    "    \"DN\" => \"pink\",\r\n",
    "    \"V\" => \"green\",\r\n",
    "    \"N\" => \"yellow\", \r\n",
    "    \"___\"=> \"gray\",\r\n",
    "    \"#\" => \"black\"\r\n",
    ")\r\n",
    "\r\n",
    "grid_world_names = Dict(\r\n",
    "    \"DS\" => \"DONUT SOUTH\",\r\n",
    "    \"DN\" => \"DONUT NORTH\",\r\n",
    "    \"V\" => \"VEGI\",\r\n",
    "    \"N\" => \"NOODLES\", \r\n",
    "    \"___\"=> \"\",\r\n",
    "    \"#\" => \"\"\r\n",
    ")\r\n",
    "grid_size = size(grid_world)\r\n",
    "start_state = [7,4]\r\n",
    "function get_state(n)\r\n",
    "    row = (n-1) ÷ grid_size[2] + 1\r\n",
    "    col = (n-1) % grid_size[2] + 1\r\n",
    "    return [row, col]\r\n",
    "end\r\n",
    "\r\n",
    "function get_tile(state)\r\n",
    "    return grid_world[state...]\r\n",
    "end\r\n",
    "\r\n",
    "traj = [[7,4], [6, 4], [5, 4], [4, 4], [3, 4], [3, 3]]\r\n",
    "\r\n",
    "# Drawing()\r\n",
    "# origin()\r\n",
    "# background(\"white\")\r\n",
    "\r\n",
    "demo = Movie(1000, 1000, \"test\", 1:length(traj))\r\n",
    "function backdrop(scene, framenumber)\r\n",
    "    background(\"white\")\r\n",
    "end\r\n",
    "\r\n",
    "function frame(scene, framenumber)\r\n",
    "    tiles = Tiler(500, 500, 8, 6, margin=0)\r\n",
    "    agent_state = traj[framenumber]\r\n",
    "    for (pos, n) in tiles\r\n",
    "        state = get_state(n)\r\n",
    "        tile = get_tile(state)\r\n",
    "        sethue(grid_world_colors[tile])\r\n",
    "        box(pos, tiles.tilewidth, tiles.tileheight, :fill)\r\n",
    "        fontsize(10)\r\n",
    "        sethue(\"black\")\r\n",
    "        textcentered(grid_world_names[tile], pos + Point(0, 5))\r\n",
    "        if (state == agent_state)\r\n",
    "            sethue(\"blue\")\r\n",
    "            circle(pos, min(tiles.tilewidth, tiles.tileheight) / 2, :fill)\r\n",
    "        end\r\n",
    "    end\r\n",
    "end\r\n",
    "\r\n",
    "animate(demo, [\r\n",
    "    Scene(demo, backdrop),\r\n",
    "    Scene(demo, frame)\r\n",
    "    ],\r\n",
    "    framerate=5,\r\n",
    "    creategif=true)"
   ],
   "outputs": [
    {
     "output_type": "execute_result",
     "data": {
      "text/plain": [
       "frame (generic function with 1 method)"
      ]
     },
     "metadata": {},
     "execution_count": 20
    }
   ],
   "metadata": {}
  }
 ]
}