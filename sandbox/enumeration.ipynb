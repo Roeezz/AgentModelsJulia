{
 "cells": [
  {
   "cell_type": "code",
   "execution_count": 4,
   "source": [
    "using Distributions, Plots, StatsPlots\r\n",
    "using Gen"
   ],
   "outputs": [],
   "metadata": {}
  },
  {
   "cell_type": "code",
   "execution_count": 7,
   "source": [
    "@gen function heads()\r\n",
    "    a = @trace(bernoulli(0.5), :a)\r\n",
    "    b = @trace(bernoulli(0.5), :b)\r\n",
    "    c = @trace(bernoulli(0.5), :c)\r\n",
    "    return a + b + c\r\n",
    "end;"
   ],
   "outputs": [],
   "metadata": {}
  },
  {
   "cell_type": "code",
   "execution_count": 8,
   "source": [
    "function enumerate_heads()\r\n",
    "    values_to_prob = Dict(0 => 0., 1 => 0., 2 => 0., 3 => 0.)\r\n",
    "    a_values_to_prob = Dict(false => 0.5, true => 0.5)\r\n",
    "    b_values_to_prob = Dict(false => 0.5, true => 0.5)\r\n",
    "    c_values_to_prob = Dict(false => 0.5, true => 0.5)\r\n",
    "    for a_val_prob in collect(a_values_to_prob)\r\n",
    "        for b_val_prob in collect(b_values_to_prob)\r\n",
    "            for c_val_prob in collect(c_values_to_prob)\r\n",
    "                a = first(a_val_prob)\r\n",
    "                b = first(b_val_prob)\r\n",
    "                c = first(c_val_prob)\r\n",
    "                a_prob = last(a_val_prob)\r\n",
    "                b_prob = last(b_val_prob)\r\n",
    "                c_prob = last(c_val_prob)\r\n",
    "                values_to_prob[a+b+c] += a_prob*b_prob*c_prob\r\n",
    "            end\r\n",
    "        end\r\n",
    "    end\r\n",
    "    return values_to_prob\r\n",
    "end;"
   ],
   "outputs": [],
   "metadata": {}
  },
  {
   "cell_type": "code",
   "execution_count": 6,
   "source": [
    "values_to_prob = enumerate_heads()"
   ],
   "outputs": [
    {
     "output_type": "execute_result",
     "data": {
      "text/plain": [
       "Dict{Int64, Float64} with 4 entries:\n",
       "  0 => 0.125\n",
       "  2 => 0.375\n",
       "  3 => 0.125\n",
       "  1 => 0.375"
      ]
     },
     "metadata": {},
     "execution_count": 6
    }
   ],
   "metadata": {}
  },
  {
   "cell_type": "code",
   "execution_count": 7,
   "source": [
    "StatsPlots.bar(values_to_prob)"
   ],
   "outputs": [
    {
     "output_type": "execute_result",
     "data": {
      "image/svg+xml": "<?xml version=\"1.0\" encoding=\"utf-8\"?>\n<svg xmlns=\"http://www.w3.org/2000/svg\" xmlns:xlink=\"http://www.w3.org/1999/xlink\" width=\"600\" height=\"400\" viewBox=\"0 0 2400 1600\">\n<defs>\n  <clipPath id=\"clip210\">\n    <rect x=\"0\" y=\"0\" width=\"2400\" height=\"1600\"/>\n  </clipPath>\n</defs>\n<path clip-path=\"url(#clip210)\" d=\"\nM0 1600 L2400 1600 L2400 0 L0 0  Z\n  \" fill=\"#ffffff\" fill-rule=\"evenodd\" fill-opacity=\"1\"/>\n<defs>\n  <clipPath id=\"clip211\">\n    <rect x=\"480\" y=\"0\" width=\"1681\" height=\"1600\"/>\n  </clipPath>\n</defs>\n<path clip-path=\"url(#clip210)\" d=\"\nM156.112 1486.45 L2352.76 1486.45 L2352.76 47.2441 L156.112 47.2441  Z\n  \" fill=\"#ffffff\" fill-rule=\"evenodd\" fill-opacity=\"1\"/>\n<defs>\n  <clipPath id=\"clip212\">\n    <rect x=\"156\" y=\"47\" width=\"2198\" height=\"1440\"/>\n  </clipPath>\n</defs>\n<polyline clip-path=\"url(#clip212)\" style=\"stroke:#000000; stroke-linecap:butt; stroke-linejoin:round; stroke-width:2; stroke-opacity:0.1; fill:none\" points=\"\n  482.721,1486.45 482.721,47.2441 \n  \"/>\n<polyline clip-path=\"url(#clip212)\" style=\"stroke:#000000; stroke-linecap:butt; stroke-linejoin:round; stroke-width:2; stroke-opacity:0.1; fill:none\" points=\"\n  997.196,1486.45 997.196,47.2441 \n  \"/>\n<polyline clip-path=\"url(#clip212)\" style=\"stroke:#000000; stroke-linecap:butt; stroke-linejoin:round; stroke-width:2; stroke-opacity:0.1; fill:none\" points=\"\n  1511.67,1486.45 1511.67,47.2441 \n  \"/>\n<polyline clip-path=\"url(#clip212)\" style=\"stroke:#000000; stroke-linecap:butt; stroke-linejoin:round; stroke-width:2; stroke-opacity:0.1; fill:none\" points=\"\n  2026.15,1486.45 2026.15,47.2441 \n  \"/>\n<polyline clip-path=\"url(#clip210)\" style=\"stroke:#000000; stroke-linecap:butt; stroke-linejoin:round; stroke-width:4; stroke-opacity:1; fill:none\" points=\"\n  156.112,1486.45 2352.76,1486.45 \n  \"/>\n<polyline clip-path=\"url(#clip210)\" style=\"stroke:#000000; stroke-linecap:butt; stroke-linejoin:round; stroke-width:4; stroke-opacity:1; fill:none\" points=\"\n  482.721,1486.45 482.721,1469.18 \n  \"/>\n<polyline clip-path=\"url(#clip210)\" style=\"stroke:#000000; stroke-linecap:butt; stroke-linejoin:round; stroke-width:4; stroke-opacity:1; fill:none\" points=\"\n  997.196,1486.45 997.196,1469.18 \n  \"/>\n<polyline clip-path=\"url(#clip210)\" style=\"stroke:#000000; stroke-linecap:butt; stroke-linejoin:round; stroke-width:4; stroke-opacity:1; fill:none\" points=\"\n  1511.67,1486.45 1511.67,1469.18 \n  \"/>\n<polyline clip-path=\"url(#clip210)\" style=\"stroke:#000000; stroke-linecap:butt; stroke-linejoin:round; stroke-width:4; stroke-opacity:1; fill:none\" points=\"\n  2026.15,1486.45 2026.15,1469.18 \n  \"/>\n<path clip-path=\"url(#clip210)\" d=\"M482.721 1515.64 Q479.11 1515.64 477.282 1519.2 Q475.476 1522.75 475.476 1529.87 Q475.476 1536.98 477.282 1540.55 Q479.11 1544.09 482.721 1544.09 Q486.356 1544.09 488.161 1540.55 Q489.99 1536.98 489.99 1529.87 Q489.99 1522.75 488.161 1519.2 Q486.356 1515.64 482.721 1515.64 M482.721 1511.93 Q488.532 1511.93 491.587 1516.54 Q494.666 1521.12 494.666 1529.87 Q494.666 1538.6 491.587 1543.21 Q488.532 1547.79 482.721 1547.79 Q476.911 1547.79 473.833 1543.21 Q470.777 1538.6 470.777 1529.87 Q470.777 1521.12 473.833 1516.54 Q476.911 1511.93 482.721 1511.93 Z\" fill=\"#000000\" fill-rule=\"evenodd\" fill-opacity=\"1\" /><path clip-path=\"url(#clip210)\" d=\"M987.578 1543.18 L995.217 1543.18 L995.217 1516.82 L986.907 1518.49 L986.907 1514.23 L995.171 1512.56 L999.847 1512.56 L999.847 1543.18 L1007.49 1543.18 L1007.49 1547.12 L987.578 1547.12 L987.578 1543.18 Z\" fill=\"#000000\" fill-rule=\"evenodd\" fill-opacity=\"1\" /><path clip-path=\"url(#clip210)\" d=\"M1506.32 1543.18 L1522.64 1543.18 L1522.64 1547.12 L1500.7 1547.12 L1500.7 1543.18 Q1503.36 1540.43 1507.94 1535.8 Q1512.55 1531.15 1513.73 1529.81 Q1515.98 1527.28 1516.86 1525.55 Q1517.76 1523.79 1517.76 1522.1 Q1517.76 1519.34 1515.82 1517.61 Q1513.89 1515.87 1510.79 1515.87 Q1508.59 1515.87 1506.14 1516.63 Q1503.71 1517.4 1500.93 1518.95 L1500.93 1514.23 Q1503.75 1513.09 1506.21 1512.51 Q1508.66 1511.93 1510.7 1511.93 Q1516.07 1511.93 1519.26 1514.62 Q1522.46 1517.31 1522.46 1521.8 Q1522.46 1523.93 1521.65 1525.85 Q1520.86 1527.74 1518.75 1530.34 Q1518.18 1531.01 1515.07 1534.23 Q1511.97 1537.42 1506.32 1543.18 Z\" fill=\"#000000\" fill-rule=\"evenodd\" fill-opacity=\"1\" /><path clip-path=\"url(#clip210)\" d=\"M2030.39 1528.49 Q2033.75 1529.2 2035.63 1531.47 Q2037.52 1533.74 2037.52 1537.07 Q2037.52 1542.19 2034.01 1544.99 Q2030.49 1547.79 2024.01 1547.79 Q2021.83 1547.79 2019.51 1547.35 Q2017.22 1546.93 2014.77 1546.08 L2014.77 1541.56 Q2016.71 1542.7 2019.03 1543.28 Q2021.34 1543.86 2023.87 1543.86 Q2028.26 1543.86 2030.56 1542.12 Q2032.87 1540.38 2032.87 1537.07 Q2032.87 1534.02 2030.72 1532.31 Q2028.59 1530.57 2024.77 1530.57 L2020.74 1530.57 L2020.74 1526.73 L2024.95 1526.73 Q2028.4 1526.73 2030.23 1525.36 Q2032.06 1523.97 2032.06 1521.38 Q2032.06 1518.72 2030.16 1517.31 Q2028.29 1515.87 2024.77 1515.87 Q2022.85 1515.87 2020.65 1516.29 Q2018.45 1516.7 2015.81 1517.58 L2015.81 1513.42 Q2018.47 1512.68 2020.79 1512.31 Q2023.13 1511.93 2025.19 1511.93 Q2030.51 1511.93 2033.61 1514.37 Q2036.71 1516.77 2036.71 1520.89 Q2036.71 1523.76 2035.07 1525.75 Q2033.43 1527.72 2030.39 1528.49 Z\" fill=\"#000000\" fill-rule=\"evenodd\" fill-opacity=\"1\" /><polyline clip-path=\"url(#clip212)\" style=\"stroke:#000000; stroke-linecap:butt; stroke-linejoin:round; stroke-width:2; stroke-opacity:0.1; fill:none\" points=\"\n  156.112,1445.72 2352.76,1445.72 \n  \"/>\n<polyline clip-path=\"url(#clip212)\" style=\"stroke:#000000; stroke-linecap:butt; stroke-linejoin:round; stroke-width:2; stroke-opacity:0.1; fill:none\" points=\"\n  156.112,1083.65 2352.76,1083.65 \n  \"/>\n<polyline clip-path=\"url(#clip212)\" style=\"stroke:#000000; stroke-linecap:butt; stroke-linejoin:round; stroke-width:2; stroke-opacity:0.1; fill:none\" points=\"\n  156.112,721.588 2352.76,721.588 \n  \"/>\n<polyline clip-path=\"url(#clip212)\" style=\"stroke:#000000; stroke-linecap:butt; stroke-linejoin:round; stroke-width:2; stroke-opacity:0.1; fill:none\" points=\"\n  156.112,359.524 2352.76,359.524 \n  \"/>\n<polyline clip-path=\"url(#clip210)\" style=\"stroke:#000000; stroke-linecap:butt; stroke-linejoin:round; stroke-width:4; stroke-opacity:1; fill:none\" points=\"\n  156.112,1486.45 156.112,47.2441 \n  \"/>\n<polyline clip-path=\"url(#clip210)\" style=\"stroke:#000000; stroke-linecap:butt; stroke-linejoin:round; stroke-width:4; stroke-opacity:1; fill:none\" points=\"\n  156.112,1445.72 182.472,1445.72 \n  \"/>\n<polyline clip-path=\"url(#clip210)\" style=\"stroke:#000000; stroke-linecap:butt; stroke-linejoin:round; stroke-width:4; stroke-opacity:1; fill:none\" points=\"\n  156.112,1083.65 182.472,1083.65 \n  \"/>\n<polyline clip-path=\"url(#clip210)\" style=\"stroke:#000000; stroke-linecap:butt; stroke-linejoin:round; stroke-width:4; stroke-opacity:1; fill:none\" points=\"\n  156.112,721.588 182.472,721.588 \n  \"/>\n<polyline clip-path=\"url(#clip210)\" style=\"stroke:#000000; stroke-linecap:butt; stroke-linejoin:round; stroke-width:4; stroke-opacity:1; fill:none\" points=\"\n  156.112,359.524 182.472,359.524 \n  \"/>\n<path clip-path=\"url(#clip210)\" d=\"M62.9365 1431.51 Q59.3254 1431.51 57.4967 1435.08 Q55.6912 1438.62 55.6912 1445.75 Q55.6912 1452.86 57.4967 1456.42 Q59.3254 1459.96 62.9365 1459.96 Q66.5707 1459.96 68.3763 1456.42 Q70.205 1452.86 70.205 1445.75 Q70.205 1438.62 68.3763 1435.08 Q66.5707 1431.51 62.9365 1431.51 M62.9365 1427.81 Q68.7467 1427.81 71.8022 1432.42 Q74.8809 1437 74.8809 1445.75 Q74.8809 1454.48 71.8022 1459.08 Q68.7467 1463.67 62.9365 1463.67 Q57.1264 1463.67 54.0477 1459.08 Q50.9921 1454.48 50.9921 1445.75 Q50.9921 1437 54.0477 1432.42 Q57.1264 1427.81 62.9365 1427.81 Z\" fill=\"#000000\" fill-rule=\"evenodd\" fill-opacity=\"1\" /><path clip-path=\"url(#clip210)\" d=\"M83.0984 1457.12 L87.9827 1457.12 L87.9827 1463 L83.0984 1463 L83.0984 1457.12 Z\" fill=\"#000000\" fill-rule=\"evenodd\" fill-opacity=\"1\" /><path clip-path=\"url(#clip210)\" d=\"M108.168 1431.51 Q104.557 1431.51 102.728 1435.08 Q100.922 1438.62 100.922 1445.75 Q100.922 1452.86 102.728 1456.42 Q104.557 1459.96 108.168 1459.96 Q111.802 1459.96 113.608 1456.42 Q115.436 1452.86 115.436 1445.75 Q115.436 1438.62 113.608 1435.08 Q111.802 1431.51 108.168 1431.51 M108.168 1427.81 Q113.978 1427.81 117.033 1432.42 Q120.112 1437 120.112 1445.75 Q120.112 1454.48 117.033 1459.08 Q113.978 1463.67 108.168 1463.67 Q102.358 1463.67 99.2789 1459.08 Q96.2234 1454.48 96.2234 1445.75 Q96.2234 1437 99.2789 1432.42 Q102.358 1427.81 108.168 1427.81 Z\" fill=\"#000000\" fill-rule=\"evenodd\" fill-opacity=\"1\" /><path clip-path=\"url(#clip210)\" d=\"M64.1634 1069.45 Q60.5523 1069.45 58.7236 1073.02 Q56.918 1076.56 56.918 1083.69 Q56.918 1090.79 58.7236 1094.36 Q60.5523 1097.9 64.1634 1097.9 Q67.7976 1097.9 69.6031 1094.36 Q71.4318 1090.79 71.4318 1083.69 Q71.4318 1076.56 69.6031 1073.02 Q67.7976 1069.45 64.1634 1069.45 M64.1634 1065.75 Q69.9735 1065.75 73.029 1070.35 Q76.1077 1074.94 76.1077 1083.69 Q76.1077 1092.41 73.029 1097.02 Q69.9735 1101.6 64.1634 1101.6 Q58.3532 1101.6 55.2745 1097.02 Q52.219 1092.41 52.219 1083.69 Q52.219 1074.94 55.2745 1070.35 Q58.3532 1065.75 64.1634 1065.75 Z\" fill=\"#000000\" fill-rule=\"evenodd\" fill-opacity=\"1\" /><path clip-path=\"url(#clip210)\" d=\"M84.3253 1095.05 L89.2095 1095.05 L89.2095 1100.93 L84.3253 1100.93 L84.3253 1095.05 Z\" fill=\"#000000\" fill-rule=\"evenodd\" fill-opacity=\"1\" /><path clip-path=\"url(#clip210)\" d=\"M100.205 1097 L107.844 1097 L107.844 1070.63 L99.5335 1072.3 L99.5335 1068.04 L107.797 1066.37 L112.473 1066.37 L112.473 1097 L120.112 1097 L120.112 1100.93 L100.205 1100.93 L100.205 1097 Z\" fill=\"#000000\" fill-rule=\"evenodd\" fill-opacity=\"1\" /><path clip-path=\"url(#clip210)\" d=\"M64.5337 707.387 Q60.9226 707.387 59.0939 710.951 Q57.2884 714.493 57.2884 721.623 Q57.2884 728.729 59.0939 732.294 Q60.9226 735.836 64.5337 735.836 Q68.168 735.836 69.9735 732.294 Q71.8022 728.729 71.8022 721.623 Q71.8022 714.493 69.9735 710.951 Q68.168 707.387 64.5337 707.387 M64.5337 703.683 Q70.3439 703.683 73.3994 708.289 Q76.4781 712.873 76.4781 721.623 Q76.4781 730.35 73.3994 734.956 Q70.3439 739.539 64.5337 739.539 Q58.7236 739.539 55.6449 734.956 Q52.5893 730.35 52.5893 721.623 Q52.5893 712.873 55.6449 708.289 Q58.7236 703.683 64.5337 703.683 Z\" fill=\"#000000\" fill-rule=\"evenodd\" fill-opacity=\"1\" /><path clip-path=\"url(#clip210)\" d=\"M84.6956 732.988 L89.5799 732.988 L89.5799 738.868 L84.6956 738.868 L84.6956 732.988 Z\" fill=\"#000000\" fill-rule=\"evenodd\" fill-opacity=\"1\" /><path clip-path=\"url(#clip210)\" d=\"M103.793 734.933 L120.112 734.933 L120.112 738.868 L98.1678 738.868 L98.1678 734.933 Q100.83 732.178 105.413 727.549 Q110.02 722.896 111.2 721.553 Q113.445 719.03 114.325 717.294 Q115.228 715.535 115.228 713.845 Q115.228 711.09 113.283 709.354 Q111.362 707.618 108.26 707.618 Q106.061 707.618 103.608 708.382 Q101.177 709.146 98.3993 710.697 L98.3993 705.975 Q101.223 704.84 103.677 704.262 Q106.131 703.683 108.168 703.683 Q113.538 703.683 116.733 706.368 Q119.927 709.053 119.927 713.544 Q119.927 715.674 119.117 717.595 Q118.33 719.493 116.223 722.086 Q115.645 722.757 112.543 725.975 Q109.441 729.169 103.793 734.933 Z\" fill=\"#000000\" fill-rule=\"evenodd\" fill-opacity=\"1\" /><path clip-path=\"url(#clip210)\" d=\"M63.5847 345.323 Q59.9736 345.323 58.1449 348.888 Q56.3393 352.429 56.3393 359.559 Q56.3393 366.665 58.1449 370.23 Q59.9736 373.772 63.5847 373.772 Q67.2189 373.772 69.0244 370.23 Q70.8531 366.665 70.8531 359.559 Q70.8531 352.429 69.0244 348.888 Q67.2189 345.323 63.5847 345.323 M63.5847 341.619 Q69.3948 341.619 72.4503 346.226 Q75.529 350.809 75.529 359.559 Q75.529 368.286 72.4503 372.892 Q69.3948 377.475 63.5847 377.475 Q57.7745 377.475 54.6958 372.892 Q51.6403 368.286 51.6403 359.559 Q51.6403 350.809 54.6958 346.226 Q57.7745 341.619 63.5847 341.619 Z\" fill=\"#000000\" fill-rule=\"evenodd\" fill-opacity=\"1\" /><path clip-path=\"url(#clip210)\" d=\"M83.7466 370.925 L88.6308 370.925 L88.6308 376.804 L83.7466 376.804 L83.7466 370.925 Z\" fill=\"#000000\" fill-rule=\"evenodd\" fill-opacity=\"1\" /><path clip-path=\"url(#clip210)\" d=\"M112.983 358.17 Q116.339 358.888 118.214 361.156 Q120.112 363.425 120.112 366.758 Q120.112 371.874 116.594 374.675 Q113.075 377.475 106.594 377.475 Q104.418 377.475 102.103 377.036 Q99.8113 376.619 97.3576 375.762 L97.3576 371.249 Q99.3021 372.383 101.617 372.962 Q103.932 373.54 106.455 373.54 Q110.853 373.54 113.145 371.804 Q115.459 370.068 115.459 366.758 Q115.459 363.702 113.307 361.989 Q111.177 360.253 107.358 360.253 L103.33 360.253 L103.33 356.411 L107.543 356.411 Q110.992 356.411 112.82 355.045 Q114.649 353.656 114.649 351.064 Q114.649 348.402 112.751 346.99 Q110.876 345.554 107.358 345.554 Q105.436 345.554 103.237 345.971 Q101.038 346.388 98.3993 347.267 L98.3993 343.101 Q101.061 342.36 103.376 341.99 Q105.714 341.619 107.774 341.619 Q113.098 341.619 116.2 344.05 Q119.302 346.457 119.302 350.577 Q119.302 353.448 117.658 355.439 Q116.015 357.406 112.983 358.17 Z\" fill=\"#000000\" fill-rule=\"evenodd\" fill-opacity=\"1\" /><path clip-path=\"url(#clip212)\" d=\"\nM276.931 993.136 L276.931 1445.72 L688.511 1445.72 L688.511 993.136 L276.931 993.136 L276.931 993.136  Z\n  \" fill=\"#009af9\" fill-rule=\"evenodd\" fill-opacity=\"1\"/>\n<polyline clip-path=\"url(#clip212)\" style=\"stroke:#000000; stroke-linecap:butt; stroke-linejoin:round; stroke-width:4; stroke-opacity:1; fill:none\" points=\"\n  276.931,993.136 276.931,1445.72 688.511,1445.72 688.511,993.136 276.931,993.136 \n  \"/>\n<path clip-path=\"url(#clip212)\" d=\"\nM1305.88 87.9763 L1305.88 1445.72 L1717.46 1445.72 L1717.46 87.9763 L1305.88 87.9763 L1305.88 87.9763  Z\n  \" fill=\"#009af9\" fill-rule=\"evenodd\" fill-opacity=\"1\"/>\n<polyline clip-path=\"url(#clip212)\" style=\"stroke:#000000; stroke-linecap:butt; stroke-linejoin:round; stroke-width:4; stroke-opacity:1; fill:none\" points=\"\n  1305.88,87.9763 1305.88,1445.72 1717.46,1445.72 1717.46,87.9763 1305.88,87.9763 \n  \"/>\n<path clip-path=\"url(#clip212)\" d=\"\nM1820.36 993.136 L1820.36 1445.72 L2231.94 1445.72 L2231.94 993.136 L1820.36 993.136 L1820.36 993.136  Z\n  \" fill=\"#009af9\" fill-rule=\"evenodd\" fill-opacity=\"1\"/>\n<polyline clip-path=\"url(#clip212)\" style=\"stroke:#000000; stroke-linecap:butt; stroke-linejoin:round; stroke-width:4; stroke-opacity:1; fill:none\" points=\"\n  1820.36,993.136 1820.36,1445.72 2231.94,1445.72 2231.94,993.136 1820.36,993.136 \n  \"/>\n<path clip-path=\"url(#clip212)\" d=\"\nM791.406 87.9763 L791.406 1445.72 L1202.99 1445.72 L1202.99 87.9763 L791.406 87.9763 L791.406 87.9763  Z\n  \" fill=\"#009af9\" fill-rule=\"evenodd\" fill-opacity=\"1\"/>\n<polyline clip-path=\"url(#clip212)\" style=\"stroke:#000000; stroke-linecap:butt; stroke-linejoin:round; stroke-width:4; stroke-opacity:1; fill:none\" points=\"\n  791.406,87.9763 791.406,1445.72 1202.99,1445.72 1202.99,87.9763 791.406,87.9763 \n  \"/>\n<path clip-path=\"url(#clip210)\" d=\"\nM1983.03 198.898 L2279.53 198.898 L2279.53 95.2176 L1983.03 95.2176  Z\n  \" fill=\"#ffffff\" fill-rule=\"evenodd\" fill-opacity=\"1\"/>\n<polyline clip-path=\"url(#clip210)\" style=\"stroke:#000000; stroke-linecap:butt; stroke-linejoin:round; stroke-width:4; stroke-opacity:1; fill:none\" points=\"\n  1983.03,198.898 2279.53,198.898 2279.53,95.2176 1983.03,95.2176 1983.03,198.898 \n  \"/>\n<path clip-path=\"url(#clip210)\" d=\"\nM2007.44 167.794 L2153.88 167.794 L2153.88 126.322 L2007.44 126.322 L2007.44 167.794  Z\n  \" fill=\"#009af9\" fill-rule=\"evenodd\" fill-opacity=\"1\"/>\n<polyline clip-path=\"url(#clip210)\" style=\"stroke:#000000; stroke-linecap:butt; stroke-linejoin:round; stroke-width:4; stroke-opacity:1; fill:none\" points=\"\n  2007.44,167.794 2153.88,167.794 2153.88,126.322 2007.44,126.322 2007.44,167.794 \n  \"/>\n<path clip-path=\"url(#clip210)\" d=\"M2192.13 166.745 Q2190.33 171.375 2188.61 172.787 Q2186.9 174.199 2184.03 174.199 L2180.63 174.199 L2180.63 170.634 L2183.13 170.634 Q2184.89 170.634 2185.86 169.8 Q2186.83 168.967 2188.01 165.865 L2188.78 163.921 L2178.29 138.412 L2182.8 138.412 L2190.91 158.689 L2199.01 138.412 L2203.52 138.412 L2192.13 166.745 Z\" fill=\"#000000\" fill-rule=\"evenodd\" fill-opacity=\"1\" /><path clip-path=\"url(#clip210)\" d=\"M2210.81 160.402 L2218.45 160.402 L2218.45 134.037 L2210.14 135.703 L2210.14 131.444 L2218.41 129.778 L2223.08 129.778 L2223.08 160.402 L2230.72 160.402 L2230.72 164.338 L2210.81 164.338 L2210.81 160.402 Z\" fill=\"#000000\" fill-rule=\"evenodd\" fill-opacity=\"1\" /></svg>\n"
     },
     "metadata": {},
     "execution_count": 7
    }
   ],
   "metadata": {}
  },
  {
   "cell_type": "code",
   "execution_count": 11,
   "source": [
    "function enumerate_heads_with_condition(condition)\r\n",
    "    values_to_prob = Dict(0 => 0., 1 => 0.)\r\n",
    "    possible_values = [0,1  ]\r\n",
    "    for a in collect(a_values_to_prob)\r\n",
    "        for b_val_prob in collect(b_values_to_prob)\r\n",
    "            for c_val_prob in collect(c_values_to_prob)\r\n",
    "                a = first(a_val_prob)\r\n",
    "                b = first(b_val_prob)\r\n",
    "                c = first(c_val_prob)\r\n",
    "                a_prob = last(a_val_prob)\r\n",
    "                b_prob = last(b_val_prob)\r\n",
    "                c_prob = last(c_val_prob)\r\n",
    "                if condition(a+b+c)\r\n",
    "                    values_to_prob[a] += a_prob*b_prob*c_prob\r\n",
    "                end\r\n",
    "            end\r\n",
    "        end\r\n",
    "    end\r\n",
    "    prob_sum = 0\r\n",
    "    for a in [0,1]\r\n",
    "        prob_sum += values_to_prob[a]\r\n",
    "    end\r\n",
    "    for a in [0,1]\r\n",
    "        values_to_prob[a] /= prob_sum\r\n",
    "    end\r\n",
    "    return values_to_prob\r\n",
    "end;"
   ],
   "outputs": [],
   "metadata": {}
  },
  {
   "cell_type": "code",
   "execution_count": 14,
   "source": [
    "values_to_prob = enumerate_heads_with_condition(sum -> sum >= 2)"
   ],
   "outputs": [
    {
     "output_type": "execute_result",
     "data": {
      "text/plain": [
       "Dict{Int64, Float64} with 2 entries:\n",
       "  0 => 0.25\n",
       "  1 => 0.75"
      ]
     },
     "metadata": {},
     "execution_count": 14
    }
   ],
   "metadata": {}
  },
  {
   "cell_type": "code",
   "execution_count": 15,
   "source": [
    "StatsPlots.bar(values_to_prob)"
   ],
   "outputs": [
    {
     "output_type": "execute_result",
     "data": {
      "image/svg+xml": "<?xml version=\"1.0\" encoding=\"utf-8\"?>\n<svg xmlns=\"http://www.w3.org/2000/svg\" xmlns:xlink=\"http://www.w3.org/1999/xlink\" width=\"600\" height=\"400\" viewBox=\"0 0 2400 1600\">\n<defs>\n  <clipPath id=\"clip250\">\n    <rect x=\"0\" y=\"0\" width=\"2400\" height=\"1600\"/>\n  </clipPath>\n</defs>\n<path clip-path=\"url(#clip250)\" d=\"\nM0 1600 L2400 1600 L2400 0 L0 0  Z\n  \" fill=\"#ffffff\" fill-rule=\"evenodd\" fill-opacity=\"1\"/>\n<defs>\n  <clipPath id=\"clip251\">\n    <rect x=\"480\" y=\"0\" width=\"1681\" height=\"1600\"/>\n  </clipPath>\n</defs>\n<path clip-path=\"url(#clip250)\" d=\"\nM156.598 1486.45 L2352.76 1486.45 L2352.76 47.2441 L156.598 47.2441  Z\n  \" fill=\"#ffffff\" fill-rule=\"evenodd\" fill-opacity=\"1\"/>\n<defs>\n  <clipPath id=\"clip252\">\n    <rect x=\"156\" y=\"47\" width=\"2197\" height=\"1440\"/>\n  </clipPath>\n</defs>\n<polyline clip-path=\"url(#clip252)\" style=\"stroke:#000000; stroke-linecap:butt; stroke-linejoin:round; stroke-width:2; stroke-opacity:0.1; fill:none\" points=\"\n  168.803,1486.45 168.803,47.2441 \n  \"/>\n<polyline clip-path=\"url(#clip252)\" style=\"stroke:#000000; stroke-linecap:butt; stroke-linejoin:round; stroke-width:2; stroke-opacity:0.1; fill:none\" points=\"\n  711.74,1486.45 711.74,47.2441 \n  \"/>\n<polyline clip-path=\"url(#clip252)\" style=\"stroke:#000000; stroke-linecap:butt; stroke-linejoin:round; stroke-width:2; stroke-opacity:0.1; fill:none\" points=\"\n  1254.68,1486.45 1254.68,47.2441 \n  \"/>\n<polyline clip-path=\"url(#clip252)\" style=\"stroke:#000000; stroke-linecap:butt; stroke-linejoin:round; stroke-width:2; stroke-opacity:0.1; fill:none\" points=\"\n  1797.61,1486.45 1797.61,47.2441 \n  \"/>\n<polyline clip-path=\"url(#clip252)\" style=\"stroke:#000000; stroke-linecap:butt; stroke-linejoin:round; stroke-width:2; stroke-opacity:0.1; fill:none\" points=\"\n  2340.55,1486.45 2340.55,47.2441 \n  \"/>\n<polyline clip-path=\"url(#clip250)\" style=\"stroke:#000000; stroke-linecap:butt; stroke-linejoin:round; stroke-width:4; stroke-opacity:1; fill:none\" points=\"\n  156.598,1486.45 2352.76,1486.45 \n  \"/>\n<polyline clip-path=\"url(#clip250)\" style=\"stroke:#000000; stroke-linecap:butt; stroke-linejoin:round; stroke-width:4; stroke-opacity:1; fill:none\" points=\"\n  168.803,1486.45 168.803,1469.18 \n  \"/>\n<polyline clip-path=\"url(#clip250)\" style=\"stroke:#000000; stroke-linecap:butt; stroke-linejoin:round; stroke-width:4; stroke-opacity:1; fill:none\" points=\"\n  711.74,1486.45 711.74,1469.18 \n  \"/>\n<polyline clip-path=\"url(#clip250)\" style=\"stroke:#000000; stroke-linecap:butt; stroke-linejoin:round; stroke-width:4; stroke-opacity:1; fill:none\" points=\"\n  1254.68,1486.45 1254.68,1469.18 \n  \"/>\n<polyline clip-path=\"url(#clip250)\" style=\"stroke:#000000; stroke-linecap:butt; stroke-linejoin:round; stroke-width:4; stroke-opacity:1; fill:none\" points=\"\n  1797.61,1486.45 1797.61,1469.18 \n  \"/>\n<polyline clip-path=\"url(#clip250)\" style=\"stroke:#000000; stroke-linecap:butt; stroke-linejoin:round; stroke-width:4; stroke-opacity:1; fill:none\" points=\"\n  2340.55,1486.45 2340.55,1469.18 \n  \"/>\n<path clip-path=\"url(#clip250)\" d=\"M115.829 1530.29 L145.505 1530.29 L145.505 1534.23 L115.829 1534.23 L115.829 1530.29 Z\" fill=\"#000000\" fill-rule=\"evenodd\" fill-opacity=\"1\" /><path clip-path=\"url(#clip250)\" d=\"M165.597 1515.64 Q161.986 1515.64 160.158 1519.2 Q158.352 1522.75 158.352 1529.87 Q158.352 1536.98 160.158 1540.55 Q161.986 1544.09 165.597 1544.09 Q169.232 1544.09 171.037 1540.55 Q172.866 1536.98 172.866 1529.87 Q172.866 1522.75 171.037 1519.2 Q169.232 1515.64 165.597 1515.64 M165.597 1511.93 Q171.408 1511.93 174.463 1516.54 Q177.542 1521.12 177.542 1529.87 Q177.542 1538.6 174.463 1543.21 Q171.408 1547.79 165.597 1547.79 Q159.787 1547.79 156.709 1543.21 Q153.653 1538.6 153.653 1529.87 Q153.653 1521.12 156.709 1516.54 Q159.787 1511.93 165.597 1511.93 Z\" fill=\"#000000\" fill-rule=\"evenodd\" fill-opacity=\"1\" /><path clip-path=\"url(#clip250)\" d=\"M185.759 1541.24 L190.644 1541.24 L190.644 1547.12 L185.759 1547.12 L185.759 1541.24 Z\" fill=\"#000000\" fill-rule=\"evenodd\" fill-opacity=\"1\" /><path clip-path=\"url(#clip250)\" d=\"M200.875 1512.56 L219.231 1512.56 L219.231 1516.5 L205.157 1516.5 L205.157 1524.97 Q206.176 1524.62 207.194 1524.46 Q208.213 1524.27 209.231 1524.27 Q215.018 1524.27 218.398 1527.44 Q221.778 1530.62 221.778 1536.03 Q221.778 1541.61 218.306 1544.71 Q214.833 1547.79 208.514 1547.79 Q206.338 1547.79 204.069 1547.42 Q201.824 1547.05 199.417 1546.31 L199.417 1541.61 Q201.5 1542.74 203.722 1543.3 Q205.944 1543.86 208.421 1543.86 Q212.426 1543.86 214.764 1541.75 Q217.102 1539.64 217.102 1536.03 Q217.102 1532.42 214.764 1530.31 Q212.426 1528.21 208.421 1528.21 Q206.546 1528.21 204.671 1528.62 Q202.819 1529.04 200.875 1529.92 L200.875 1512.56 Z\" fill=\"#000000\" fill-rule=\"evenodd\" fill-opacity=\"1\" /><path clip-path=\"url(#clip250)\" d=\"M689.125 1515.64 Q685.514 1515.64 683.685 1519.2 Q681.879 1522.75 681.879 1529.87 Q681.879 1536.98 683.685 1540.55 Q685.514 1544.09 689.125 1544.09 Q692.759 1544.09 694.564 1540.55 Q696.393 1536.98 696.393 1529.87 Q696.393 1522.75 694.564 1519.2 Q692.759 1515.64 689.125 1515.64 M689.125 1511.93 Q694.935 1511.93 697.99 1516.54 Q701.069 1521.12 701.069 1529.87 Q701.069 1538.6 697.99 1543.21 Q694.935 1547.79 689.125 1547.79 Q683.314 1547.79 680.236 1543.21 Q677.18 1538.6 677.18 1529.87 Q677.18 1521.12 680.236 1516.54 Q683.314 1511.93 689.125 1511.93 Z\" fill=\"#000000\" fill-rule=\"evenodd\" fill-opacity=\"1\" /><path clip-path=\"url(#clip250)\" d=\"M709.287 1541.24 L714.171 1541.24 L714.171 1547.12 L709.287 1547.12 L709.287 1541.24 Z\" fill=\"#000000\" fill-rule=\"evenodd\" fill-opacity=\"1\" /><path clip-path=\"url(#clip250)\" d=\"M734.356 1515.64 Q730.745 1515.64 728.916 1519.2 Q727.111 1522.75 727.111 1529.87 Q727.111 1536.98 728.916 1540.55 Q730.745 1544.09 734.356 1544.09 Q737.99 1544.09 739.796 1540.55 Q741.624 1536.98 741.624 1529.87 Q741.624 1522.75 739.796 1519.2 Q737.99 1515.64 734.356 1515.64 M734.356 1511.93 Q740.166 1511.93 743.222 1516.54 Q746.3 1521.12 746.3 1529.87 Q746.3 1538.6 743.222 1543.21 Q740.166 1547.79 734.356 1547.79 Q728.546 1547.79 725.467 1543.21 Q722.412 1538.6 722.412 1529.87 Q722.412 1521.12 725.467 1516.54 Q728.546 1511.93 734.356 1511.93 Z\" fill=\"#000000\" fill-rule=\"evenodd\" fill-opacity=\"1\" /><path clip-path=\"url(#clip250)\" d=\"M1232.56 1515.64 Q1228.95 1515.64 1227.12 1519.2 Q1225.31 1522.75 1225.31 1529.87 Q1225.31 1536.98 1227.12 1540.55 Q1228.95 1544.09 1232.56 1544.09 Q1236.19 1544.09 1238 1540.55 Q1239.83 1536.98 1239.83 1529.87 Q1239.83 1522.75 1238 1519.2 Q1236.19 1515.64 1232.56 1515.64 M1232.56 1511.93 Q1238.37 1511.93 1241.42 1516.54 Q1244.5 1521.12 1244.5 1529.87 Q1244.5 1538.6 1241.42 1543.21 Q1238.37 1547.79 1232.56 1547.79 Q1226.75 1547.79 1223.67 1543.21 Q1220.61 1538.6 1220.61 1529.87 Q1220.61 1521.12 1223.67 1516.54 Q1226.75 1511.93 1232.56 1511.93 Z\" fill=\"#000000\" fill-rule=\"evenodd\" fill-opacity=\"1\" /><path clip-path=\"url(#clip250)\" d=\"M1252.72 1541.24 L1257.61 1541.24 L1257.61 1547.12 L1252.72 1547.12 L1252.72 1541.24 Z\" fill=\"#000000\" fill-rule=\"evenodd\" fill-opacity=\"1\" /><path clip-path=\"url(#clip250)\" d=\"M1267.84 1512.56 L1286.19 1512.56 L1286.19 1516.5 L1272.12 1516.5 L1272.12 1524.97 Q1273.14 1524.62 1274.16 1524.46 Q1275.17 1524.27 1276.19 1524.27 Q1281.98 1524.27 1285.36 1527.44 Q1288.74 1530.62 1288.74 1536.03 Q1288.74 1541.61 1285.27 1544.71 Q1281.79 1547.79 1275.48 1547.79 Q1273.3 1547.79 1271.03 1547.42 Q1268.79 1547.05 1266.38 1546.31 L1266.38 1541.61 Q1268.46 1542.74 1270.68 1543.3 Q1272.91 1543.86 1275.38 1543.86 Q1279.39 1543.86 1281.73 1541.75 Q1284.06 1539.64 1284.06 1536.03 Q1284.06 1532.42 1281.73 1530.31 Q1279.39 1528.21 1275.38 1528.21 Q1273.51 1528.21 1271.63 1528.62 Q1269.78 1529.04 1267.84 1529.92 L1267.84 1512.56 Z\" fill=\"#000000\" fill-rule=\"evenodd\" fill-opacity=\"1\" /><path clip-path=\"url(#clip250)\" d=\"M1764.77 1543.18 L1772.41 1543.18 L1772.41 1516.82 L1764.1 1518.49 L1764.1 1514.23 L1772.36 1512.56 L1777.04 1512.56 L1777.04 1543.18 L1784.67 1543.18 L1784.67 1547.12 L1764.77 1547.12 L1764.77 1543.18 Z\" fill=\"#000000\" fill-rule=\"evenodd\" fill-opacity=\"1\" /><path clip-path=\"url(#clip250)\" d=\"M1794.12 1541.24 L1799 1541.24 L1799 1547.12 L1794.12 1547.12 L1794.12 1541.24 Z\" fill=\"#000000\" fill-rule=\"evenodd\" fill-opacity=\"1\" /><path clip-path=\"url(#clip250)\" d=\"M1819.19 1515.64 Q1815.58 1515.64 1813.75 1519.2 Q1811.94 1522.75 1811.94 1529.87 Q1811.94 1536.98 1813.75 1540.55 Q1815.58 1544.09 1819.19 1544.09 Q1822.82 1544.09 1824.63 1540.55 Q1826.46 1536.98 1826.46 1529.87 Q1826.46 1522.75 1824.63 1519.2 Q1822.82 1515.64 1819.19 1515.64 M1819.19 1511.93 Q1825 1511.93 1828.05 1516.54 Q1831.13 1521.12 1831.13 1529.87 Q1831.13 1538.6 1828.05 1543.21 Q1825 1547.79 1819.19 1547.79 Q1813.38 1547.79 1810.3 1543.21 Q1807.24 1538.6 1807.24 1529.87 Q1807.24 1521.12 1810.3 1516.54 Q1813.38 1511.93 1819.19 1511.93 Z\" fill=\"#000000\" fill-rule=\"evenodd\" fill-opacity=\"1\" /><path clip-path=\"url(#clip250)\" d=\"M2308.2 1543.18 L2315.84 1543.18 L2315.84 1516.82 L2307.53 1518.49 L2307.53 1514.23 L2315.79 1512.56 L2320.47 1512.56 L2320.47 1543.18 L2328.11 1543.18 L2328.11 1547.12 L2308.2 1547.12 L2308.2 1543.18 Z\" fill=\"#000000\" fill-rule=\"evenodd\" fill-opacity=\"1\" /><path clip-path=\"url(#clip250)\" d=\"M2337.55 1541.24 L2342.44 1541.24 L2342.44 1547.12 L2337.55 1547.12 L2337.55 1541.24 Z\" fill=\"#000000\" fill-rule=\"evenodd\" fill-opacity=\"1\" /><path clip-path=\"url(#clip250)\" d=\"M2352.67 1512.56 L2371.03 1512.56 L2371.03 1516.5 L2356.95 1516.5 L2356.95 1524.97 Q2357.97 1524.62 2358.99 1524.46 Q2360.01 1524.27 2361.03 1524.27 Q2366.81 1524.27 2370.19 1527.44 Q2373.57 1530.62 2373.57 1536.03 Q2373.57 1541.61 2370.1 1544.71 Q2366.63 1547.79 2360.31 1547.79 Q2358.13 1547.79 2355.86 1547.42 Q2353.62 1547.05 2351.21 1546.31 L2351.21 1541.61 Q2353.29 1542.74 2355.52 1543.3 Q2357.74 1543.86 2360.21 1543.86 Q2364.22 1543.86 2366.56 1541.75 Q2368.9 1539.64 2368.9 1536.03 Q2368.9 1532.42 2366.56 1530.31 Q2364.22 1528.21 2360.21 1528.21 Q2358.34 1528.21 2356.46 1528.62 Q2354.61 1529.04 2352.67 1529.92 L2352.67 1512.56 Z\" fill=\"#000000\" fill-rule=\"evenodd\" fill-opacity=\"1\" /><polyline clip-path=\"url(#clip252)\" style=\"stroke:#000000; stroke-linecap:butt; stroke-linejoin:round; stroke-width:2; stroke-opacity:0.1; fill:none\" points=\"\n  156.598,1445.72 2352.76,1445.72 \n  \"/>\n<polyline clip-path=\"url(#clip252)\" style=\"stroke:#000000; stroke-linecap:butt; stroke-linejoin:round; stroke-width:2; stroke-opacity:0.1; fill:none\" points=\"\n  156.598,1083.65 2352.76,1083.65 \n  \"/>\n<polyline clip-path=\"url(#clip252)\" style=\"stroke:#000000; stroke-linecap:butt; stroke-linejoin:round; stroke-width:2; stroke-opacity:0.1; fill:none\" points=\"\n  156.598,721.588 2352.76,721.588 \n  \"/>\n<polyline clip-path=\"url(#clip252)\" style=\"stroke:#000000; stroke-linecap:butt; stroke-linejoin:round; stroke-width:2; stroke-opacity:0.1; fill:none\" points=\"\n  156.598,359.524 2352.76,359.524 \n  \"/>\n<polyline clip-path=\"url(#clip250)\" style=\"stroke:#000000; stroke-linecap:butt; stroke-linejoin:round; stroke-width:4; stroke-opacity:1; fill:none\" points=\"\n  156.598,1486.45 156.598,47.2441 \n  \"/>\n<polyline clip-path=\"url(#clip250)\" style=\"stroke:#000000; stroke-linecap:butt; stroke-linejoin:round; stroke-width:4; stroke-opacity:1; fill:none\" points=\"\n  156.598,1445.72 182.952,1445.72 \n  \"/>\n<polyline clip-path=\"url(#clip250)\" style=\"stroke:#000000; stroke-linecap:butt; stroke-linejoin:round; stroke-width:4; stroke-opacity:1; fill:none\" points=\"\n  156.598,1083.65 182.952,1083.65 \n  \"/>\n<polyline clip-path=\"url(#clip250)\" style=\"stroke:#000000; stroke-linecap:butt; stroke-linejoin:round; stroke-width:4; stroke-opacity:1; fill:none\" points=\"\n  156.598,721.588 182.952,721.588 \n  \"/>\n<polyline clip-path=\"url(#clip250)\" style=\"stroke:#000000; stroke-linecap:butt; stroke-linejoin:round; stroke-width:4; stroke-opacity:1; fill:none\" points=\"\n  156.598,359.524 182.952,359.524 \n  \"/>\n<path clip-path=\"url(#clip250)\" d=\"M63.4226 1431.51 Q59.8115 1431.51 57.9828 1435.08 Q56.1773 1438.62 56.1773 1445.75 Q56.1773 1452.86 57.9828 1456.42 Q59.8115 1459.96 63.4226 1459.96 Q67.0569 1459.96 68.8624 1456.42 Q70.6911 1452.86 70.6911 1445.75 Q70.6911 1438.62 68.8624 1435.08 Q67.0569 1431.51 63.4226 1431.51 M63.4226 1427.81 Q69.2328 1427.81 72.2883 1432.42 Q75.367 1437 75.367 1445.75 Q75.367 1454.48 72.2883 1459.08 Q69.2328 1463.67 63.4226 1463.67 Q57.6125 1463.67 54.5338 1459.08 Q51.4782 1454.48 51.4782 1445.75 Q51.4782 1437 54.5338 1432.42 Q57.6125 1427.81 63.4226 1427.81 Z\" fill=\"#000000\" fill-rule=\"evenodd\" fill-opacity=\"1\" /><path clip-path=\"url(#clip250)\" d=\"M83.5845 1457.12 L88.4688 1457.12 L88.4688 1463 L83.5845 1463 L83.5845 1457.12 Z\" fill=\"#000000\" fill-rule=\"evenodd\" fill-opacity=\"1\" /><path clip-path=\"url(#clip250)\" d=\"M108.654 1431.51 Q105.043 1431.51 103.214 1435.08 Q101.409 1438.62 101.409 1445.75 Q101.409 1452.86 103.214 1456.42 Q105.043 1459.96 108.654 1459.96 Q112.288 1459.96 114.094 1456.42 Q115.922 1452.86 115.922 1445.75 Q115.922 1438.62 114.094 1435.08 Q112.288 1431.51 108.654 1431.51 M108.654 1427.81 Q114.464 1427.81 117.52 1432.42 Q120.598 1437 120.598 1445.75 Q120.598 1454.48 117.52 1459.08 Q114.464 1463.67 108.654 1463.67 Q102.844 1463.67 99.765 1459.08 Q96.7095 1454.48 96.7095 1445.75 Q96.7095 1437 99.765 1432.42 Q102.844 1427.81 108.654 1427.81 Z\" fill=\"#000000\" fill-rule=\"evenodd\" fill-opacity=\"1\" /><path clip-path=\"url(#clip250)\" d=\"M65.0198 1069.45 Q61.4087 1069.45 59.58 1073.02 Q57.7745 1076.56 57.7745 1083.69 Q57.7745 1090.79 59.58 1094.36 Q61.4087 1097.9 65.0198 1097.9 Q68.6541 1097.9 70.4596 1094.36 Q72.2883 1090.79 72.2883 1083.69 Q72.2883 1076.56 70.4596 1073.02 Q68.6541 1069.45 65.0198 1069.45 M65.0198 1065.75 Q70.83 1065.75 73.8855 1070.35 Q76.9642 1074.94 76.9642 1083.69 Q76.9642 1092.41 73.8855 1097.02 Q70.83 1101.6 65.0198 1101.6 Q59.2097 1101.6 56.131 1097.02 Q53.0754 1092.41 53.0754 1083.69 Q53.0754 1074.94 56.131 1070.35 Q59.2097 1065.75 65.0198 1065.75 Z\" fill=\"#000000\" fill-rule=\"evenodd\" fill-opacity=\"1\" /><path clip-path=\"url(#clip250)\" d=\"M85.1818 1095.05 L90.066 1095.05 L90.066 1100.93 L85.1818 1100.93 L85.1818 1095.05 Z\" fill=\"#000000\" fill-rule=\"evenodd\" fill-opacity=\"1\" /><path clip-path=\"url(#clip250)\" d=\"M104.279 1097 L120.598 1097 L120.598 1100.93 L98.6539 1100.93 L98.6539 1097 Q101.316 1094.24 105.899 1089.61 Q110.506 1084.96 111.686 1083.62 Q113.932 1081.09 114.811 1079.36 Q115.714 1077.6 115.714 1075.91 Q115.714 1073.15 113.77 1071.42 Q111.848 1069.68 108.746 1069.68 Q106.547 1069.68 104.094 1070.45 Q101.663 1071.21 98.8854 1072.76 L98.8854 1068.04 Q101.709 1066.9 104.163 1066.33 Q106.617 1065.75 108.654 1065.75 Q114.024 1065.75 117.219 1068.43 Q120.413 1071.12 120.413 1075.61 Q120.413 1077.74 119.603 1079.66 Q118.816 1081.56 116.709 1084.15 Q116.131 1084.82 113.029 1088.04 Q109.927 1091.23 104.279 1097 Z\" fill=\"#000000\" fill-rule=\"evenodd\" fill-opacity=\"1\" /><path clip-path=\"url(#clip250)\" d=\"M62.9365 707.387 Q59.3254 707.387 57.4967 710.951 Q55.6912 714.493 55.6912 721.623 Q55.6912 728.729 57.4967 732.294 Q59.3254 735.836 62.9365 735.836 Q66.5707 735.836 68.3763 732.294 Q70.205 728.729 70.205 721.623 Q70.205 714.493 68.3763 710.951 Q66.5707 707.387 62.9365 707.387 M62.9365 703.683 Q68.7467 703.683 71.8022 708.289 Q74.8809 712.873 74.8809 721.623 Q74.8809 730.35 71.8022 734.956 Q68.7467 739.539 62.9365 739.539 Q57.1264 739.539 54.0477 734.956 Q50.9921 730.35 50.9921 721.623 Q50.9921 712.873 54.0477 708.289 Q57.1264 703.683 62.9365 703.683 Z\" fill=\"#000000\" fill-rule=\"evenodd\" fill-opacity=\"1\" /><path clip-path=\"url(#clip250)\" d=\"M83.0984 732.988 L87.9827 732.988 L87.9827 738.868 L83.0984 738.868 L83.0984 732.988 Z\" fill=\"#000000\" fill-rule=\"evenodd\" fill-opacity=\"1\" /><path clip-path=\"url(#clip250)\" d=\"M111.015 708.382 L99.2095 726.831 L111.015 726.831 L111.015 708.382 M109.788 704.308 L115.668 704.308 L115.668 726.831 L120.598 726.831 L120.598 730.72 L115.668 730.72 L115.668 738.868 L111.015 738.868 L111.015 730.72 L95.4132 730.72 L95.4132 726.206 L109.788 704.308 Z\" fill=\"#000000\" fill-rule=\"evenodd\" fill-opacity=\"1\" /><path clip-path=\"url(#clip250)\" d=\"M63.2606 345.323 Q59.6495 345.323 57.8208 348.888 Q56.0152 352.429 56.0152 359.559 Q56.0152 366.665 57.8208 370.23 Q59.6495 373.772 63.2606 373.772 Q66.8948 373.772 68.7004 370.23 Q70.5291 366.665 70.5291 359.559 Q70.5291 352.429 68.7004 348.888 Q66.8948 345.323 63.2606 345.323 M63.2606 341.619 Q69.0707 341.619 72.1263 346.226 Q75.205 350.809 75.205 359.559 Q75.205 368.286 72.1263 372.892 Q69.0707 377.475 63.2606 377.475 Q57.4504 377.475 54.3717 372.892 Q51.3162 368.286 51.3162 359.559 Q51.3162 350.809 54.3717 346.226 Q57.4504 341.619 63.2606 341.619 Z\" fill=\"#000000\" fill-rule=\"evenodd\" fill-opacity=\"1\" /><path clip-path=\"url(#clip250)\" d=\"M83.4225 370.925 L88.3067 370.925 L88.3067 376.804 L83.4225 376.804 L83.4225 370.925 Z\" fill=\"#000000\" fill-rule=\"evenodd\" fill-opacity=\"1\" /><path clip-path=\"url(#clip250)\" d=\"M109.071 357.661 Q105.922 357.661 104.071 359.814 Q102.242 361.966 102.242 365.716 Q102.242 369.443 104.071 371.619 Q105.922 373.772 109.071 373.772 Q112.219 373.772 114.047 371.619 Q115.899 369.443 115.899 365.716 Q115.899 361.966 114.047 359.814 Q112.219 357.661 109.071 357.661 M118.353 343.008 L118.353 347.267 Q116.594 346.434 114.788 345.994 Q113.006 345.554 111.246 345.554 Q106.617 345.554 104.163 348.679 Q101.733 351.804 101.385 358.124 Q102.751 356.11 104.811 355.045 Q106.871 353.957 109.348 353.957 Q114.557 353.957 117.566 357.128 Q120.598 360.276 120.598 365.716 Q120.598 371.04 117.45 374.258 Q114.302 377.475 109.071 377.475 Q103.075 377.475 99.9039 372.892 Q96.7326 368.286 96.7326 359.559 Q96.7326 351.364 100.621 346.503 Q104.51 341.619 111.061 341.619 Q112.82 341.619 114.603 341.966 Q116.408 342.314 118.353 343.008 Z\" fill=\"#000000\" fill-rule=\"evenodd\" fill-opacity=\"1\" /><path clip-path=\"url(#clip252)\" d=\"\nM277.391 993.136 L277.391 1445.72 L1146.09 1445.72 L1146.09 993.136 L277.391 993.136 L277.391 993.136  Z\n  \" fill=\"#009af9\" fill-rule=\"evenodd\" fill-opacity=\"1\"/>\n<polyline clip-path=\"url(#clip252)\" style=\"stroke:#000000; stroke-linecap:butt; stroke-linejoin:round; stroke-width:4; stroke-opacity:1; fill:none\" points=\"\n  277.391,993.136 277.391,1445.72 1146.09,1445.72 1146.09,993.136 277.391,993.136 \n  \"/>\n<path clip-path=\"url(#clip252)\" d=\"\nM1363.26 87.9763 L1363.26 1445.72 L2231.96 1445.72 L2231.96 87.9763 L1363.26 87.9763 L1363.26 87.9763  Z\n  \" fill=\"#009af9\" fill-rule=\"evenodd\" fill-opacity=\"1\"/>\n<polyline clip-path=\"url(#clip252)\" style=\"stroke:#000000; stroke-linecap:butt; stroke-linejoin:round; stroke-width:4; stroke-opacity:1; fill:none\" points=\"\n  1363.26,87.9763 1363.26,1445.72 2231.96,1445.72 2231.96,87.9763 1363.26,87.9763 \n  \"/>\n<path clip-path=\"url(#clip250)\" d=\"\nM1983.1 198.898 L2279.55 198.898 L2279.55 95.2176 L1983.1 95.2176  Z\n  \" fill=\"#ffffff\" fill-rule=\"evenodd\" fill-opacity=\"1\"/>\n<polyline clip-path=\"url(#clip250)\" style=\"stroke:#000000; stroke-linecap:butt; stroke-linejoin:round; stroke-width:4; stroke-opacity:1; fill:none\" points=\"\n  1983.1,198.898 2279.55,198.898 2279.55,95.2176 1983.1,95.2176 1983.1,198.898 \n  \"/>\n<path clip-path=\"url(#clip250)\" d=\"\nM2007.5 167.794 L2153.92 167.794 L2153.92 126.322 L2007.5 126.322 L2007.5 167.794  Z\n  \" fill=\"#009af9\" fill-rule=\"evenodd\" fill-opacity=\"1\"/>\n<polyline clip-path=\"url(#clip250)\" style=\"stroke:#000000; stroke-linecap:butt; stroke-linejoin:round; stroke-width:4; stroke-opacity:1; fill:none\" points=\"\n  2007.5,167.794 2153.92,167.794 2153.92,126.322 2007.5,126.322 2007.5,167.794 \n  \"/>\n<path clip-path=\"url(#clip250)\" d=\"M2192.16 166.745 Q2190.35 171.375 2188.64 172.787 Q2186.93 174.199 2184.06 174.199 L2180.65 174.199 L2180.65 170.634 L2183.15 170.634 Q2184.91 170.634 2185.89 169.8 Q2186.86 168.967 2188.04 165.865 L2188.8 163.921 L2178.32 138.412 L2182.83 138.412 L2190.93 158.689 L2199.03 138.412 L2203.55 138.412 L2192.16 166.745 Z\" fill=\"#000000\" fill-rule=\"evenodd\" fill-opacity=\"1\" /><path clip-path=\"url(#clip250)\" d=\"M2210.84 160.402 L2218.48 160.402 L2218.48 134.037 L2210.17 135.703 L2210.17 131.444 L2218.43 129.778 L2223.11 129.778 L2223.11 160.402 L2230.75 160.402 L2230.75 164.338 L2210.84 164.338 L2210.84 160.402 Z\" fill=\"#000000\" fill-rule=\"evenodd\" fill-opacity=\"1\" /></svg>\n"
     },
     "metadata": {},
     "execution_count": 15
    }
   ],
   "metadata": {}
  },
  {
   "cell_type": "code",
   "execution_count": 31,
   "source": [
    "function enumerate_heads_with_condition_gen(condition)\r\n",
    "    values_to_prob = Dict(0 => 0., 1 => 0.)\r\n",
    "    possible_values = [0,1]\r\n",
    "    for a in possible_values\r\n",
    "        for b in possible_values\r\n",
    "            for c in possible_values\r\n",
    "                trace,weight = generate(heads,(), choicemap(:a => a, :b => b, :c => c))\r\n",
    "                if condition(get_retval(trace))\r\n",
    "                    values_to_prob[a] += exp(weight)\r\n",
    "                end\r\n",
    "            end\r\n",
    "        end\r\n",
    "    end\r\n",
    "    prob_sum = 0\r\n",
    "    for a in [0,1]\r\n",
    "        prob_sum += values_to_prob[a]\r\n",
    "    end\r\n",
    "    for a in [0,1]\r\n",
    "        values_to_prob[a] /= prob_sum\r\n",
    "    end\r\n",
    "    return values_to_prob\r\n",
    "end;"
   ],
   "outputs": [],
   "metadata": {}
  },
  {
   "cell_type": "code",
   "execution_count": 30,
   "source": [
    "values_to_prob = enumerate_heads_with_condition_gen(sum -> sum == 2)"
   ],
   "outputs": [
    {
     "output_type": "stream",
     "name": "stdout",
     "text": [
      "weight = -2.0794415416798357weight = -2.0794415416798357weight = -2.0794415416798357weight = -2.0794415416798357weight = -2.0794415416798357weight = -2.0794415416798357weight = -2.0794415416798357weight = -2.0794415416798357"
     ]
    },
    {
     "output_type": "execute_result",
     "data": {
      "text/plain": [
       "Dict{Int64, Float64} with 2 entries:\n",
       "  0 => 0.333333\n",
       "  1 => 0.666667"
      ]
     },
     "metadata": {},
     "execution_count": 30
    }
   ],
   "metadata": {}
  },
  {
   "cell_type": "code",
   "execution_count": 19,
   "source": [
    "function enumerate_heads_with_factor_gen(condition)\r\n",
    "    values_to_prob = Dict(0 => 0., 1 => 0.)\r\n",
    "    possible_values = [0,1]\r\n",
    "    for a in possible_values\r\n",
    "        for b in possible_values\r\n",
    "            for c in possible_values\r\n",
    "                trace,weight = generate(heads,(), choicemap(:a => a, :b => b, :c => c))\r\n",
    "                values_to_prob[a] += exp(weight) + exp(get_retval(trace))\r\n",
    "            end\r\n",
    "        end\r\n",
    "    end\r\n",
    "    prob_sum = 0\r\n",
    "    for a in [0,1]\r\n",
    "        prob_sum += values_to_prob[a]\r\n",
    "    end\r\n",
    "    for a in [0,1]\r\n",
    "        values_to_prob[a] /= prob_sum\r\n",
    "    end\r\n",
    "    return values_to_prob\r\n",
    "end;"
   ],
   "outputs": [],
   "metadata": {}
  },
  {
   "cell_type": "code",
   "execution_count": 23,
   "source": [
    "values_to_prob = enumerate_heads_with_factor_gen(sum -> sum == 2)"
   ],
   "outputs": [
    {
     "output_type": "execute_result",
     "data": {
      "text/plain": [
       "Dict{Int64, Float64} with 2 entries:\n",
       "  0 => 0.27335\n",
       "  1 => 0.72665"
      ]
     },
     "metadata": {},
     "execution_count": 23
    }
   ],
   "metadata": {}
  }
 ],
 "metadata": {
  "orig_nbformat": 4,
  "language_info": {
   "file_extension": ".jl",
   "name": "julia",
   "mimetype": "application/julia",
   "version": "1.6.1"
  },
  "kernelspec": {
   "name": "julia-1.6",
   "display_name": "Julia 1.6.1",
   "language": "julia"
  }
 },
 "nbformat": 4,
 "nbformat_minor": 2
}