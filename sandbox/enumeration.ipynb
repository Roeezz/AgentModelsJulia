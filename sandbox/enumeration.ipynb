{
 "cells": [
  {
   "cell_type": "code",
   "execution_count": 1,
   "source": [
    "using Turing, Distributions, Plots, StatsPlots\n",
    "using Gen"
   ],
   "outputs": [],
   "metadata": {}
  },
  {
   "cell_type": "code",
   "execution_count": 2,
   "source": [
    "@gen function twoHeadsGen()\n",
    "    a = @trace(bernoulli(0.5), :a)\n",
    "    b = @trace(bernoulli(0.5), :b)\n",
    "    c = @trace(bernoulli(0.5), :c)\n",
    "    return a + b + c\n",
    "    obs = @trace(normal(a + b + c, 0.1), :obs)\n",
    "end;"
   ],
   "outputs": [],
   "metadata": {}
  },
  {
   "cell_type": "code",
   "execution_count": 5,
   "source": [
    "function enumerate_twoHeadsGen()\n",
    "    values_to_prob = Dict(0 => 0., 1 => 0., 2 => 0., 3 => 0.)\n",
    "    a_values_to_prob = Dict(false => 0.5, true => 0.5)\n",
    "    b_values_to_prob = Dict(false => 0.5, true => 0.5)\n",
    "    c_values_to_prob = Dict(false => 0.5, true => 0.5)\n",
    "    for a_val_prob in collect(a_values_to_prob)\n",
    "        for b_val_prob in collect(b_values_to_prob)\n",
    "            for c_val_prob in collect(c_values_to_prob)\n",
    "                a = first(a_val_prob)\n",
    "                b = first(b_val_prob)\n",
    "                c = first(c_val_prob)\n",
    "                a_prob = last(a_val_prob)\n",
    "                b_prob = last(b_val_prob)\n",
    "                c_prob = last(c_val_prob)\n",
    "                values_to_prob[a+b+c] += a_prob*b_prob*c_prob\n",
    "            end\n",
    "        end\n",
    "    end\n",
    "    return values_to_prob\n",
    "end;"
   ],
   "outputs": [],
   "metadata": {}
  },
  {
   "cell_type": "code",
   "execution_count": 7,
   "source": [
    "values_to_prob = enumerate_twoHeadsGen()"
   ],
   "outputs": [
    {
     "output_type": "execute_result",
     "data": {
      "text/plain": [
       "Dict{Int64, Float64} with 4 entries:\n",
       "  0 => 0.125\n",
       "  2 => 0.375\n",
       "  3 => 0.125\n",
       "  1 => 0.375"
      ]
     },
     "metadata": {},
     "execution_count": 7
    }
   ],
   "metadata": {}
  },
  {
   "cell_type": "code",
   "execution_count": 9,
   "source": [
    "StatsPlots.bar(values_to_prob)"
   ],
   "outputs": [
    {
     "output_type": "execute_result",
     "data": {
      "image/svg+xml": "<?xml version=\"1.0\" encoding=\"utf-8\"?>\n<svg xmlns=\"http://www.w3.org/2000/svg\" xmlns:xlink=\"http://www.w3.org/1999/xlink\" width=\"600\" height=\"400\" viewBox=\"0 0 2400 1600\">\n<defs>\n  <clipPath id=\"clip180\">\n    <rect x=\"0\" y=\"0\" width=\"2400\" height=\"1600\"/>\n  </clipPath>\n</defs>\n<path clip-path=\"url(#clip180)\" d=\"\nM0 1600 L2400 1600 L2400 0 L0 0  Z\n  \" fill=\"#ffffff\" fill-rule=\"evenodd\" fill-opacity=\"1\"/>\n<defs>\n  <clipPath id=\"clip181\">\n    <rect x=\"480\" y=\"0\" width=\"1681\" height=\"1600\"/>\n  </clipPath>\n</defs>\n<path clip-path=\"url(#clip180)\" d=\"\nM156.112 1486.45 L2352.76 1486.45 L2352.76 47.2441 L156.112 47.2441  Z\n  \" fill=\"#ffffff\" fill-rule=\"evenodd\" fill-opacity=\"1\"/>\n<defs>\n  <clipPath id=\"clip182\">\n    <rect x=\"156\" y=\"47\" width=\"2198\" height=\"1440\"/>\n  </clipPath>\n</defs>\n<polyline clip-path=\"url(#clip182)\" style=\"stroke:#000000; stroke-linecap:butt; stroke-linejoin:round; stroke-width:2; stroke-opacity:0.1; fill:none\" points=\"\n  482.721,1486.45 482.721,47.2441 \n  \"/>\n<polyline clip-path=\"url(#clip182)\" style=\"stroke:#000000; stroke-linecap:butt; stroke-linejoin:round; stroke-width:2; stroke-opacity:0.1; fill:none\" points=\"\n  997.196,1486.45 997.196,47.2441 \n  \"/>\n<polyline clip-path=\"url(#clip182)\" style=\"stroke:#000000; stroke-linecap:butt; stroke-linejoin:round; stroke-width:2; stroke-opacity:0.1; fill:none\" points=\"\n  1511.67,1486.45 1511.67,47.2441 \n  \"/>\n<polyline clip-path=\"url(#clip182)\" style=\"stroke:#000000; stroke-linecap:butt; stroke-linejoin:round; stroke-width:2; stroke-opacity:0.1; fill:none\" points=\"\n  2026.15,1486.45 2026.15,47.2441 \n  \"/>\n<polyline clip-path=\"url(#clip180)\" style=\"stroke:#000000; stroke-linecap:butt; stroke-linejoin:round; stroke-width:4; stroke-opacity:1; fill:none\" points=\"\n  156.112,1486.45 2352.76,1486.45 \n  \"/>\n<polyline clip-path=\"url(#clip180)\" style=\"stroke:#000000; stroke-linecap:butt; stroke-linejoin:round; stroke-width:4; stroke-opacity:1; fill:none\" points=\"\n  482.721,1486.45 482.721,1469.18 \n  \"/>\n<polyline clip-path=\"url(#clip180)\" style=\"stroke:#000000; stroke-linecap:butt; stroke-linejoin:round; stroke-width:4; stroke-opacity:1; fill:none\" points=\"\n  997.196,1486.45 997.196,1469.18 \n  \"/>\n<polyline clip-path=\"url(#clip180)\" style=\"stroke:#000000; stroke-linecap:butt; stroke-linejoin:round; stroke-width:4; stroke-opacity:1; fill:none\" points=\"\n  1511.67,1486.45 1511.67,1469.18 \n  \"/>\n<polyline clip-path=\"url(#clip180)\" style=\"stroke:#000000; stroke-linecap:butt; stroke-linejoin:round; stroke-width:4; stroke-opacity:1; fill:none\" points=\"\n  2026.15,1486.45 2026.15,1469.18 \n  \"/>\n<path clip-path=\"url(#clip180)\" d=\"M482.721 1515.64 Q479.11 1515.64 477.282 1519.2 Q475.476 1522.75 475.476 1529.87 Q475.476 1536.98 477.282 1540.55 Q479.11 1544.09 482.721 1544.09 Q486.356 1544.09 488.161 1540.55 Q489.99 1536.98 489.99 1529.87 Q489.99 1522.75 488.161 1519.2 Q486.356 1515.64 482.721 1515.64 M482.721 1511.93 Q488.532 1511.93 491.587 1516.54 Q494.666 1521.12 494.666 1529.87 Q494.666 1538.6 491.587 1543.21 Q488.532 1547.79 482.721 1547.79 Q476.911 1547.79 473.833 1543.21 Q470.777 1538.6 470.777 1529.87 Q470.777 1521.12 473.833 1516.54 Q476.911 1511.93 482.721 1511.93 Z\" fill=\"#000000\" fill-rule=\"evenodd\" fill-opacity=\"1\" /><path clip-path=\"url(#clip180)\" d=\"M987.578 1543.18 L995.217 1543.18 L995.217 1516.82 L986.907 1518.49 L986.907 1514.23 L995.171 1512.56 L999.847 1512.56 L999.847 1543.18 L1007.49 1543.18 L1007.49 1547.12 L987.578 1547.12 L987.578 1543.18 Z\" fill=\"#000000\" fill-rule=\"evenodd\" fill-opacity=\"1\" /><path clip-path=\"url(#clip180)\" d=\"M1506.32 1543.18 L1522.64 1543.18 L1522.64 1547.12 L1500.7 1547.12 L1500.7 1543.18 Q1503.36 1540.43 1507.94 1535.8 Q1512.55 1531.15 1513.73 1529.81 Q1515.98 1527.28 1516.86 1525.55 Q1517.76 1523.79 1517.76 1522.1 Q1517.76 1519.34 1515.82 1517.61 Q1513.89 1515.87 1510.79 1515.87 Q1508.59 1515.87 1506.14 1516.63 Q1503.71 1517.4 1500.93 1518.95 L1500.93 1514.23 Q1503.75 1513.09 1506.21 1512.51 Q1508.66 1511.93 1510.7 1511.93 Q1516.07 1511.93 1519.26 1514.62 Q1522.46 1517.31 1522.46 1521.8 Q1522.46 1523.93 1521.65 1525.85 Q1520.86 1527.74 1518.75 1530.34 Q1518.18 1531.01 1515.07 1534.23 Q1511.97 1537.42 1506.32 1543.18 Z\" fill=\"#000000\" fill-rule=\"evenodd\" fill-opacity=\"1\" /><path clip-path=\"url(#clip180)\" d=\"M2030.39 1528.49 Q2033.75 1529.2 2035.63 1531.47 Q2037.52 1533.74 2037.52 1537.07 Q2037.52 1542.19 2034.01 1544.99 Q2030.49 1547.79 2024.01 1547.79 Q2021.83 1547.79 2019.51 1547.35 Q2017.22 1546.93 2014.77 1546.08 L2014.77 1541.56 Q2016.71 1542.7 2019.03 1543.28 Q2021.34 1543.86 2023.87 1543.86 Q2028.26 1543.86 2030.56 1542.12 Q2032.87 1540.38 2032.87 1537.07 Q2032.87 1534.02 2030.72 1532.31 Q2028.59 1530.57 2024.77 1530.57 L2020.74 1530.57 L2020.74 1526.73 L2024.95 1526.73 Q2028.4 1526.73 2030.23 1525.36 Q2032.06 1523.97 2032.06 1521.38 Q2032.06 1518.72 2030.16 1517.31 Q2028.29 1515.87 2024.77 1515.87 Q2022.85 1515.87 2020.65 1516.29 Q2018.45 1516.7 2015.81 1517.58 L2015.81 1513.42 Q2018.47 1512.68 2020.79 1512.31 Q2023.13 1511.93 2025.19 1511.93 Q2030.51 1511.93 2033.61 1514.37 Q2036.71 1516.77 2036.71 1520.89 Q2036.71 1523.76 2035.07 1525.75 Q2033.43 1527.72 2030.39 1528.49 Z\" fill=\"#000000\" fill-rule=\"evenodd\" fill-opacity=\"1\" /><polyline clip-path=\"url(#clip182)\" style=\"stroke:#000000; stroke-linecap:butt; stroke-linejoin:round; stroke-width:2; stroke-opacity:0.1; fill:none\" points=\"\n  156.112,1445.72 2352.76,1445.72 \n  \"/>\n<polyline clip-path=\"url(#clip182)\" style=\"stroke:#000000; stroke-linecap:butt; stroke-linejoin:round; stroke-width:2; stroke-opacity:0.1; fill:none\" points=\"\n  156.112,1083.65 2352.76,1083.65 \n  \"/>\n<polyline clip-path=\"url(#clip182)\" style=\"stroke:#000000; stroke-linecap:butt; stroke-linejoin:round; stroke-width:2; stroke-opacity:0.1; fill:none\" points=\"\n  156.112,721.588 2352.76,721.588 \n  \"/>\n<polyline clip-path=\"url(#clip182)\" style=\"stroke:#000000; stroke-linecap:butt; stroke-linejoin:round; stroke-width:2; stroke-opacity:0.1; fill:none\" points=\"\n  156.112,359.524 2352.76,359.524 \n  \"/>\n<polyline clip-path=\"url(#clip180)\" style=\"stroke:#000000; stroke-linecap:butt; stroke-linejoin:round; stroke-width:4; stroke-opacity:1; fill:none\" points=\"\n  156.112,1486.45 156.112,47.2441 \n  \"/>\n<polyline clip-path=\"url(#clip180)\" style=\"stroke:#000000; stroke-linecap:butt; stroke-linejoin:round; stroke-width:4; stroke-opacity:1; fill:none\" points=\"\n  156.112,1445.72 182.472,1445.72 \n  \"/>\n<polyline clip-path=\"url(#clip180)\" style=\"stroke:#000000; stroke-linecap:butt; stroke-linejoin:round; stroke-width:4; stroke-opacity:1; fill:none\" points=\"\n  156.112,1083.65 182.472,1083.65 \n  \"/>\n<polyline clip-path=\"url(#clip180)\" style=\"stroke:#000000; stroke-linecap:butt; stroke-linejoin:round; stroke-width:4; stroke-opacity:1; fill:none\" points=\"\n  156.112,721.588 182.472,721.588 \n  \"/>\n<polyline clip-path=\"url(#clip180)\" style=\"stroke:#000000; stroke-linecap:butt; stroke-linejoin:round; stroke-width:4; stroke-opacity:1; fill:none\" points=\"\n  156.112,359.524 182.472,359.524 \n  \"/>\n<path clip-path=\"url(#clip180)\" d=\"M62.9365 1431.51 Q59.3254 1431.51 57.4967 1435.08 Q55.6912 1438.62 55.6912 1445.75 Q55.6912 1452.86 57.4967 1456.42 Q59.3254 1459.96 62.9365 1459.96 Q66.5707 1459.96 68.3763 1456.42 Q70.205 1452.86 70.205 1445.75 Q70.205 1438.62 68.3763 1435.08 Q66.5707 1431.51 62.9365 1431.51 M62.9365 1427.81 Q68.7467 1427.81 71.8022 1432.42 Q74.8809 1437 74.8809 1445.75 Q74.8809 1454.48 71.8022 1459.08 Q68.7467 1463.67 62.9365 1463.67 Q57.1264 1463.67 54.0477 1459.08 Q50.9921 1454.48 50.9921 1445.75 Q50.9921 1437 54.0477 1432.42 Q57.1264 1427.81 62.9365 1427.81 Z\" fill=\"#000000\" fill-rule=\"evenodd\" fill-opacity=\"1\" /><path clip-path=\"url(#clip180)\" d=\"M83.0984 1457.12 L87.9827 1457.12 L87.9827 1463 L83.0984 1463 L83.0984 1457.12 Z\" fill=\"#000000\" fill-rule=\"evenodd\" fill-opacity=\"1\" /><path clip-path=\"url(#clip180)\" d=\"M108.168 1431.51 Q104.557 1431.51 102.728 1435.08 Q100.922 1438.62 100.922 1445.75 Q100.922 1452.86 102.728 1456.42 Q104.557 1459.96 108.168 1459.96 Q111.802 1459.96 113.608 1456.42 Q115.436 1452.86 115.436 1445.75 Q115.436 1438.62 113.608 1435.08 Q111.802 1431.51 108.168 1431.51 M108.168 1427.81 Q113.978 1427.81 117.033 1432.42 Q120.112 1437 120.112 1445.75 Q120.112 1454.48 117.033 1459.08 Q113.978 1463.67 108.168 1463.67 Q102.358 1463.67 99.2789 1459.08 Q96.2234 1454.48 96.2234 1445.75 Q96.2234 1437 99.2789 1432.42 Q102.358 1427.81 108.168 1427.81 Z\" fill=\"#000000\" fill-rule=\"evenodd\" fill-opacity=\"1\" /><path clip-path=\"url(#clip180)\" d=\"M64.1634 1069.45 Q60.5523 1069.45 58.7236 1073.02 Q56.918 1076.56 56.918 1083.69 Q56.918 1090.79 58.7236 1094.36 Q60.5523 1097.9 64.1634 1097.9 Q67.7976 1097.9 69.6031 1094.36 Q71.4318 1090.79 71.4318 1083.69 Q71.4318 1076.56 69.6031 1073.02 Q67.7976 1069.45 64.1634 1069.45 M64.1634 1065.75 Q69.9735 1065.75 73.029 1070.35 Q76.1077 1074.94 76.1077 1083.69 Q76.1077 1092.41 73.029 1097.02 Q69.9735 1101.6 64.1634 1101.6 Q58.3532 1101.6 55.2745 1097.02 Q52.219 1092.41 52.219 1083.69 Q52.219 1074.94 55.2745 1070.35 Q58.3532 1065.75 64.1634 1065.75 Z\" fill=\"#000000\" fill-rule=\"evenodd\" fill-opacity=\"1\" /><path clip-path=\"url(#clip180)\" d=\"M84.3253 1095.05 L89.2095 1095.05 L89.2095 1100.93 L84.3253 1100.93 L84.3253 1095.05 Z\" fill=\"#000000\" fill-rule=\"evenodd\" fill-opacity=\"1\" /><path clip-path=\"url(#clip180)\" d=\"M100.205 1097 L107.844 1097 L107.844 1070.63 L99.5335 1072.3 L99.5335 1068.04 L107.797 1066.37 L112.473 1066.37 L112.473 1097 L120.112 1097 L120.112 1100.93 L100.205 1100.93 L100.205 1097 Z\" fill=\"#000000\" fill-rule=\"evenodd\" fill-opacity=\"1\" /><path clip-path=\"url(#clip180)\" d=\"M64.5337 707.387 Q60.9226 707.387 59.0939 710.951 Q57.2884 714.493 57.2884 721.623 Q57.2884 728.729 59.0939 732.294 Q60.9226 735.836 64.5337 735.836 Q68.168 735.836 69.9735 732.294 Q71.8022 728.729 71.8022 721.623 Q71.8022 714.493 69.9735 710.951 Q68.168 707.387 64.5337 707.387 M64.5337 703.683 Q70.3439 703.683 73.3994 708.289 Q76.4781 712.873 76.4781 721.623 Q76.4781 730.35 73.3994 734.956 Q70.3439 739.539 64.5337 739.539 Q58.7236 739.539 55.6449 734.956 Q52.5893 730.35 52.5893 721.623 Q52.5893 712.873 55.6449 708.289 Q58.7236 703.683 64.5337 703.683 Z\" fill=\"#000000\" fill-rule=\"evenodd\" fill-opacity=\"1\" /><path clip-path=\"url(#clip180)\" d=\"M84.6956 732.988 L89.5799 732.988 L89.5799 738.868 L84.6956 738.868 L84.6956 732.988 Z\" fill=\"#000000\" fill-rule=\"evenodd\" fill-opacity=\"1\" /><path clip-path=\"url(#clip180)\" d=\"M103.793 734.933 L120.112 734.933 L120.112 738.868 L98.1678 738.868 L98.1678 734.933 Q100.83 732.178 105.413 727.549 Q110.02 722.896 111.2 721.553 Q113.445 719.03 114.325 717.294 Q115.228 715.535 115.228 713.845 Q115.228 711.09 113.283 709.354 Q111.362 707.618 108.26 707.618 Q106.061 707.618 103.608 708.382 Q101.177 709.146 98.3993 710.697 L98.3993 705.975 Q101.223 704.84 103.677 704.262 Q106.131 703.683 108.168 703.683 Q113.538 703.683 116.733 706.368 Q119.927 709.053 119.927 713.544 Q119.927 715.674 119.117 717.595 Q118.33 719.493 116.223 722.086 Q115.645 722.757 112.543 725.975 Q109.441 729.169 103.793 734.933 Z\" fill=\"#000000\" fill-rule=\"evenodd\" fill-opacity=\"1\" /><path clip-path=\"url(#clip180)\" d=\"M63.5847 345.323 Q59.9736 345.323 58.1449 348.888 Q56.3393 352.429 56.3393 359.559 Q56.3393 366.665 58.1449 370.23 Q59.9736 373.772 63.5847 373.772 Q67.2189 373.772 69.0244 370.23 Q70.8531 366.665 70.8531 359.559 Q70.8531 352.429 69.0244 348.888 Q67.2189 345.323 63.5847 345.323 M63.5847 341.619 Q69.3948 341.619 72.4503 346.226 Q75.529 350.809 75.529 359.559 Q75.529 368.286 72.4503 372.892 Q69.3948 377.475 63.5847 377.475 Q57.7745 377.475 54.6958 372.892 Q51.6403 368.286 51.6403 359.559 Q51.6403 350.809 54.6958 346.226 Q57.7745 341.619 63.5847 341.619 Z\" fill=\"#000000\" fill-rule=\"evenodd\" fill-opacity=\"1\" /><path clip-path=\"url(#clip180)\" d=\"M83.7466 370.925 L88.6308 370.925 L88.6308 376.804 L83.7466 376.804 L83.7466 370.925 Z\" fill=\"#000000\" fill-rule=\"evenodd\" fill-opacity=\"1\" /><path clip-path=\"url(#clip180)\" d=\"M112.983 358.17 Q116.339 358.888 118.214 361.156 Q120.112 363.425 120.112 366.758 Q120.112 371.874 116.594 374.675 Q113.075 377.475 106.594 377.475 Q104.418 377.475 102.103 377.036 Q99.8113 376.619 97.3576 375.762 L97.3576 371.249 Q99.3021 372.383 101.617 372.962 Q103.932 373.54 106.455 373.54 Q110.853 373.54 113.145 371.804 Q115.459 370.068 115.459 366.758 Q115.459 363.702 113.307 361.989 Q111.177 360.253 107.358 360.253 L103.33 360.253 L103.33 356.411 L107.543 356.411 Q110.992 356.411 112.82 355.045 Q114.649 353.656 114.649 351.064 Q114.649 348.402 112.751 346.99 Q110.876 345.554 107.358 345.554 Q105.436 345.554 103.237 345.971 Q101.038 346.388 98.3993 347.267 L98.3993 343.101 Q101.061 342.36 103.376 341.99 Q105.714 341.619 107.774 341.619 Q113.098 341.619 116.2 344.05 Q119.302 346.457 119.302 350.577 Q119.302 353.448 117.658 355.439 Q116.015 357.406 112.983 358.17 Z\" fill=\"#000000\" fill-rule=\"evenodd\" fill-opacity=\"1\" /><path clip-path=\"url(#clip182)\" d=\"\nM276.931 993.136 L276.931 1445.72 L688.511 1445.72 L688.511 993.136 L276.931 993.136 L276.931 993.136  Z\n  \" fill=\"#009af9\" fill-rule=\"evenodd\" fill-opacity=\"1\"/>\n<polyline clip-path=\"url(#clip182)\" style=\"stroke:#000000; stroke-linecap:butt; stroke-linejoin:round; stroke-width:4; stroke-opacity:1; fill:none\" points=\"\n  276.931,993.136 276.931,1445.72 688.511,1445.72 688.511,993.136 276.931,993.136 \n  \"/>\n<path clip-path=\"url(#clip182)\" d=\"\nM1305.88 87.9763 L1305.88 1445.72 L1717.46 1445.72 L1717.46 87.9763 L1305.88 87.9763 L1305.88 87.9763  Z\n  \" fill=\"#009af9\" fill-rule=\"evenodd\" fill-opacity=\"1\"/>\n<polyline clip-path=\"url(#clip182)\" style=\"stroke:#000000; stroke-linecap:butt; stroke-linejoin:round; stroke-width:4; stroke-opacity:1; fill:none\" points=\"\n  1305.88,87.9763 1305.88,1445.72 1717.46,1445.72 1717.46,87.9763 1305.88,87.9763 \n  \"/>\n<path clip-path=\"url(#clip182)\" d=\"\nM1820.36 993.136 L1820.36 1445.72 L2231.94 1445.72 L2231.94 993.136 L1820.36 993.136 L1820.36 993.136  Z\n  \" fill=\"#009af9\" fill-rule=\"evenodd\" fill-opacity=\"1\"/>\n<polyline clip-path=\"url(#clip182)\" style=\"stroke:#000000; stroke-linecap:butt; stroke-linejoin:round; stroke-width:4; stroke-opacity:1; fill:none\" points=\"\n  1820.36,993.136 1820.36,1445.72 2231.94,1445.72 2231.94,993.136 1820.36,993.136 \n  \"/>\n<path clip-path=\"url(#clip182)\" d=\"\nM791.406 87.9763 L791.406 1445.72 L1202.99 1445.72 L1202.99 87.9763 L791.406 87.9763 L791.406 87.9763  Z\n  \" fill=\"#009af9\" fill-rule=\"evenodd\" fill-opacity=\"1\"/>\n<polyline clip-path=\"url(#clip182)\" style=\"stroke:#000000; stroke-linecap:butt; stroke-linejoin:round; stroke-width:4; stroke-opacity:1; fill:none\" points=\"\n  791.406,87.9763 791.406,1445.72 1202.99,1445.72 1202.99,87.9763 791.406,87.9763 \n  \"/>\n<path clip-path=\"url(#clip180)\" d=\"\nM1983.03 198.898 L2279.53 198.898 L2279.53 95.2176 L1983.03 95.2176  Z\n  \" fill=\"#ffffff\" fill-rule=\"evenodd\" fill-opacity=\"1\"/>\n<polyline clip-path=\"url(#clip180)\" style=\"stroke:#000000; stroke-linecap:butt; stroke-linejoin:round; stroke-width:4; stroke-opacity:1; fill:none\" points=\"\n  1983.03,198.898 2279.53,198.898 2279.53,95.2176 1983.03,95.2176 1983.03,198.898 \n  \"/>\n<path clip-path=\"url(#clip180)\" d=\"\nM2007.44 167.794 L2153.88 167.794 L2153.88 126.322 L2007.44 126.322 L2007.44 167.794  Z\n  \" fill=\"#009af9\" fill-rule=\"evenodd\" fill-opacity=\"1\"/>\n<polyline clip-path=\"url(#clip180)\" style=\"stroke:#000000; stroke-linecap:butt; stroke-linejoin:round; stroke-width:4; stroke-opacity:1; fill:none\" points=\"\n  2007.44,167.794 2153.88,167.794 2153.88,126.322 2007.44,126.322 2007.44,167.794 \n  \"/>\n<path clip-path=\"url(#clip180)\" d=\"M2192.13 166.745 Q2190.33 171.375 2188.61 172.787 Q2186.9 174.199 2184.03 174.199 L2180.63 174.199 L2180.63 170.634 L2183.13 170.634 Q2184.89 170.634 2185.86 169.8 Q2186.83 168.967 2188.01 165.865 L2188.78 163.921 L2178.29 138.412 L2182.8 138.412 L2190.91 158.689 L2199.01 138.412 L2203.52 138.412 L2192.13 166.745 Z\" fill=\"#000000\" fill-rule=\"evenodd\" fill-opacity=\"1\" /><path clip-path=\"url(#clip180)\" d=\"M2210.81 160.402 L2218.45 160.402 L2218.45 134.037 L2210.14 135.703 L2210.14 131.444 L2218.41 129.778 L2223.08 129.778 L2223.08 160.402 L2230.72 160.402 L2230.72 164.338 L2210.81 164.338 L2210.81 160.402 Z\" fill=\"#000000\" fill-rule=\"evenodd\" fill-opacity=\"1\" /></svg>\n"
     },
     "metadata": {},
     "execution_count": 9
    }
   ],
   "metadata": {}
  }
 ],
 "metadata": {
  "orig_nbformat": 4,
  "language_info": {
   "file_extension": ".jl",
   "name": "julia",
   "mimetype": "application/julia",
   "version": "1.6.1"
  },
  "kernelspec": {
   "name": "julia-1.6",
   "display_name": "Julia 1.6.1",
   "language": "julia"
  }
 },
 "nbformat": 4,
 "nbformat_minor": 2
}