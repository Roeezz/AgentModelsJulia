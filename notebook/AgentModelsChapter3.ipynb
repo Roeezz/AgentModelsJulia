{
 "metadata": {
  "language_info": {
   "codemirror_mode": {
    "name": "ipython",
    "version": 3
   },
   "file_extension": ".py",
   "mimetype": "text/x-python",
   "name": "julia",
   "nbconvert_exporter": "python",
   "pygments_lexer": "ipython3",
   "version": 3
  },
  "orig_nbformat": 4,
  "kernelspec": {
   "name": "julia-1.6",
   "display_name": "Julia 1.6.1",
   "language": "julia"
  }
 },
 "nbformat": 4,
 "nbformat_minor": 2,
 "cells": [
  {
   "cell_type": "code",
   "execution_count": 40,
   "metadata": {},
   "outputs": [],
   "source": [
    "using Gen,PyPlot,Statistics"
   ]
  },
  {
   "cell_type": "code",
   "execution_count": 4,
   "metadata": {},
   "outputs": [
    {
     "output_type": "execute_result",
     "data": {
      "text/plain": [
       "2-element Vector{Symbol}:\n",
       " :italian\n",
       " :french"
      ]
     },
     "metadata": {},
     "execution_count": 4
    }
   ],
   "source": []
  },
  {
   "cell_type": "code",
   "execution_count": 15,
   "metadata": {},
   "outputs": [],
   "source": [
    "# Choose to eat at the Italian or French restaurants\n",
    "actions = [:italian, :french];\n",
    "\n",
    "function transition(state,action)\n",
    "    if action == :italian\n",
    "        return :pizza\n",
    "    else\n",
    "        return :steak_frites\n",
    "    end\n",
    "end\n",
    "\n",
    "function utility(state)\n",
    "    if state == :pizza\n",
    "        return 10\n",
    "    else\n",
    "        return 0\n",
    "    end\n",
    "end\n",
    "\n",
    "function max_agent(state)\n",
    "    return argmax(action -> utility(transition(state,action)),actions)\n",
    "end;"
   ]
  },
  {
   "cell_type": "code",
   "execution_count": 21,
   "metadata": {},
   "outputs": [
    {
     "output_type": "stream",
     "name": "stdout",
     "text": [
      "choice in initial state: italian"
     ]
    }
   ],
   "source": [
    "max_state = max_agent(:initial_state)\n",
    "print(\"choice in initial state: $max_state\");"
   ]
  },
  {
   "cell_type": "code",
   "execution_count": 30,
   "metadata": {},
   "outputs": [],
   "source": [
    "@gen function heads()\n",
    "    a = @trace(bernoulli(0.5), :a)\n",
    "    b = @trace(bernoulli(0.5), :b)\n",
    "    c = @trace(bernoulli(0.5), :c)\n",
    "    @trace(normal(a + b + c, 0.01), :sum)\n",
    "end\n",
    "\n",
    "function infer_heads(sum,amount_of_computation)\n",
    "    observations = Gen.choicemap()\n",
    "    observations[:sum] = sum\n",
    "    trace, = Gen.generate(heads,(),observations)\n",
    "    as = []\n",
    "    for i = 1:1000\n",
    "        trace, = Gen.mh(trace, select(:a, :b, :c))\n",
    "        push!(as, trace[:a])\n",
    "    end\n",
    "    return as\n",
    "end;\n"
   ]
  },
  {
   "cell_type": "code",
   "execution_count": 44,
   "metadata": {},
   "outputs": [
    {
     "output_type": "execute_result",
     "data": {
      "text/plain": [
       "0.664"
      ]
     },
     "metadata": {},
     "execution_count": 44
    }
   ],
   "source": [
    "as = infer_heads(2,1000);\n",
    "mean(as)"
   ]
  },
  {
   "cell_type": "code",
   "execution_count": 41,
   "metadata": {},
   "outputs": [
    {
     "output_type": "execute_result",
     "data": {
      "text/plain": [
       "mean (generic function with 94 methods)"
      ]
     },
     "metadata": {},
     "execution_count": 41
    }
   ],
   "source": []
  },
  {
   "cell_type": "code",
   "execution_count": null,
   "metadata": {},
   "outputs": [],
   "source": []
  }
 ]
}